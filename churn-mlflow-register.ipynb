{
 "cells": [
  {
   "cell_type": "code",
   "execution_count": 1,
   "id": "ddd38e62",
   "metadata": {},
   "outputs": [
    {
     "name": "stdout",
     "output_type": "stream",
     "text": [
      "Requirement already up-to-date: azureml-sdk in /anaconda/envs/azureml_py38/lib/python3.8/site-packages (1.43.0)\n",
      "Requirement already up-to-date: azureml-widgets in /anaconda/envs/azureml_py38/lib/python3.8/site-packages (1.43.0)\n",
      "Requirement already satisfied, skipping upgrade: azureml-train-automl-client~=1.43.0 in /anaconda/envs/azureml_py38/lib/python3.8/site-packages (from azureml-sdk) (1.43.0)\n",
      "Requirement already satisfied, skipping upgrade: azureml-dataset-runtime[fuse]~=1.43.0 in /anaconda/envs/azureml_py38/lib/python3.8/site-packages (from azureml-sdk) (1.43.0.post2)\n",
      "Requirement already satisfied, skipping upgrade: azureml-train-core~=1.43.0 in /anaconda/envs/azureml_py38/lib/python3.8/site-packages (from azureml-sdk) (1.43.0)\n",
      "Requirement already satisfied, skipping upgrade: azureml-pipeline~=1.43.0 in /anaconda/envs/azureml_py38/lib/python3.8/site-packages (from azureml-sdk) (1.43.0)\n",
      "Requirement already satisfied, skipping upgrade: azureml-core~=1.43.0 in /anaconda/envs/azureml_py38/lib/python3.8/site-packages (from azureml-sdk) (1.43.0)\n",
      "Requirement already satisfied, skipping upgrade: azureml-telemetry~=1.43.0 in /anaconda/envs/azureml_py38/lib/python3.8/site-packages (from azureml-widgets) (1.43.0)\n",
      "Requirement already satisfied, skipping upgrade: markupsafe<2.1.0 in /anaconda/envs/azureml_py38/lib/python3.8/site-packages (from azureml-widgets) (2.0.1)\n",
      "Requirement already satisfied, skipping upgrade: azure-storage-blob>=12.6.0 in /anaconda/envs/azureml_py38/lib/python3.8/site-packages (from azureml-widgets) (12.12.0)\n",
      "Requirement already satisfied, skipping upgrade: jinja2<=2.11.2 in /anaconda/envs/azureml_py38/lib/python3.8/site-packages (from azureml-widgets) (2.11.2)\n",
      "Requirement already satisfied, skipping upgrade: ipywidgets>=7.0.0 in /anaconda/envs/azureml_py38/lib/python3.8/site-packages (from azureml-widgets) (7.7.0)\n",
      "Requirement already satisfied, skipping upgrade: azureml-automl-core~=1.43.0 in /anaconda/envs/azureml_py38/lib/python3.8/site-packages (from azureml-train-automl-client~=1.43.0->azureml-sdk) (1.43.0.post2)\n",
      "Requirement already satisfied, skipping upgrade: pyarrow<4.0.0,>=0.17.0 in /anaconda/envs/azureml_py38/lib/python3.8/site-packages (from azureml-dataset-runtime[fuse]~=1.43.0->azureml-sdk) (3.0.0)\n",
      "Requirement already satisfied, skipping upgrade: azureml-dataprep<4.1.0a,>=4.0.0a in /anaconda/envs/azureml_py38/lib/python3.8/site-packages (from azureml-dataset-runtime[fuse]~=1.43.0->azureml-sdk) (4.0.1)\n",
      "Requirement already satisfied, skipping upgrade: numpy!=1.19.3; sys_platform == \"linux\" in /anaconda/envs/azureml_py38/lib/python3.8/site-packages (from azureml-dataset-runtime[fuse]~=1.43.0->azureml-sdk) (1.19.0)\n",
      "Requirement already satisfied, skipping upgrade: fusepy<4.0.0,>=3.0.1; extra == \"fuse\" in /anaconda/envs/azureml_py38/lib/python3.8/site-packages (from azureml-dataset-runtime[fuse]~=1.43.0->azureml-sdk) (3.0.1)\n",
      "Requirement already satisfied, skipping upgrade: azureml-train-restclients-hyperdrive~=1.43.0 in /anaconda/envs/azureml_py38/lib/python3.8/site-packages (from azureml-train-core~=1.43.0->azureml-sdk) (1.43.0)\n",
      "Requirement already satisfied, skipping upgrade: azureml-pipeline-steps~=1.43.0 in /anaconda/envs/azureml_py38/lib/python3.8/site-packages (from azureml-pipeline~=1.43.0->azureml-sdk) (1.43.0)\n",
      "Requirement already satisfied, skipping upgrade: azureml-pipeline-core~=1.43.0 in /anaconda/envs/azureml_py38/lib/python3.8/site-packages (from azureml-pipeline~=1.43.0->azureml-sdk) (1.43.0)\n",
      "Requirement already satisfied, skipping upgrade: argcomplete<3 in /anaconda/envs/azureml_py38/lib/python3.8/site-packages (from azureml-core~=1.43.0->azureml-sdk) (2.0.0)\n",
      "Requirement already satisfied, skipping upgrade: msal-extensions<=1.0.0,>=0.3.0 in /anaconda/envs/azureml_py38/lib/python3.8/site-packages (from azureml-core~=1.43.0->azureml-sdk) (0.3.1)\n",
      "Requirement already satisfied, skipping upgrade: docker<6.0.0 in /anaconda/envs/azureml_py38/lib/python3.8/site-packages (from azureml-core~=1.43.0->azureml-sdk) (5.0.3)\n",
      "Requirement already satisfied, skipping upgrade: msal<2.0.0,>=1.15.0 in /anaconda/envs/azureml_py38/lib/python3.8/site-packages (from azureml-core~=1.43.0->azureml-sdk) (1.17.0)\n",
      "Requirement already satisfied, skipping upgrade: PyJWT<3.0.0 in /anaconda/envs/azureml_py38/lib/python3.8/site-packages (from azureml-core~=1.43.0->azureml-sdk) (2.4.0)\n",
      "Requirement already satisfied, skipping upgrade: adal<=1.2.7,>=1.2.0 in /anaconda/envs/azureml_py38/lib/python3.8/site-packages (from azureml-core~=1.43.0->azureml-sdk) (1.2.7)\n",
      "Requirement already satisfied, skipping upgrade: requests[socks]<3.0.0,>=2.19.1 in /anaconda/envs/azureml_py38/lib/python3.8/site-packages (from azureml-core~=1.43.0->azureml-sdk) (2.27.1)\n",
      "Requirement already satisfied, skipping upgrade: azure-graphrbac<1.0.0,>=0.40.0 in /anaconda/envs/azureml_py38/lib/python3.8/site-packages (from azureml-core~=1.43.0->azureml-sdk) (0.61.1)\n",
      "Requirement already satisfied, skipping upgrade: SecretStorage<4.0.0 in /anaconda/envs/azureml_py38/lib/python3.8/site-packages (from azureml-core~=1.43.0->azureml-sdk) (3.3.2)\n",
      "Requirement already satisfied, skipping upgrade: pyopenssl<23.0.0 in /anaconda/envs/azureml_py38/lib/python3.8/site-packages (from azureml-core~=1.43.0->azureml-sdk) (22.0.0)\n",
      "Requirement already satisfied, skipping upgrade: urllib3<=1.26.9,>=1.23 in /anaconda/envs/azureml_py38/lib/python3.8/site-packages (from azureml-core~=1.43.0->azureml-sdk) (1.26.9)\n",
      "Requirement already satisfied, skipping upgrade: pkginfo in /anaconda/envs/azureml_py38/lib/python3.8/site-packages (from azureml-core~=1.43.0->azureml-sdk) (1.8.2)\n",
      "Requirement already satisfied, skipping upgrade: backports.tempfile in /anaconda/envs/azureml_py38/lib/python3.8/site-packages (from azureml-core~=1.43.0->azureml-sdk) (1.0)\n",
      "Requirement already satisfied, skipping upgrade: humanfriendly<11.0,>=4.7 in /anaconda/envs/azureml_py38/lib/python3.8/site-packages (from azureml-core~=1.43.0->azureml-sdk) (10.0)\n",
      "Requirement already satisfied, skipping upgrade: pathspec<1.0.0 in /anaconda/envs/azureml_py38/lib/python3.8/site-packages (from azureml-core~=1.43.0->azureml-sdk) (0.9.0)\n",
      "Requirement already satisfied, skipping upgrade: azure-mgmt-core<=1.3.0 in /anaconda/envs/azureml_py38/lib/python3.8/site-packages (from azureml-core~=1.43.0->azureml-sdk) (1.3.0)\n",
      "Requirement already satisfied, skipping upgrade: knack~=0.9.0 in /anaconda/envs/azureml_py38/lib/python3.8/site-packages (from azureml-core~=1.43.0->azureml-sdk) (0.9.0)\n",
      "Requirement already satisfied, skipping upgrade: jsonpickle<3.0.0 in /anaconda/envs/azureml_py38/lib/python3.8/site-packages (from azureml-core~=1.43.0->azureml-sdk) (2.2.0)\n",
      "Requirement already satisfied, skipping upgrade: jmespath<=1.0.0 in /anaconda/envs/azureml_py38/lib/python3.8/site-packages (from azureml-core~=1.43.0->azureml-sdk) (0.10.0)\n",
      "Requirement already satisfied, skipping upgrade: azure-mgmt-storage<=20.0.0,>=16.0.0 in /anaconda/envs/azureml_py38/lib/python3.8/site-packages (from azureml-core~=1.43.0->azureml-sdk) (20.0.0)\n",
      "Requirement already satisfied, skipping upgrade: paramiko<3.0.0,>=2.0.8 in /anaconda/envs/azureml_py38/lib/python3.8/site-packages (from azureml-core~=1.43.0->azureml-sdk) (2.11.0)\n",
      "Requirement already satisfied, skipping upgrade: msrestazure<=0.6.4,>=0.4.33 in /anaconda/envs/azureml_py38/lib/python3.8/site-packages (from azureml-core~=1.43.0->azureml-sdk) (0.6.4)\n",
      "Requirement already satisfied, skipping upgrade: cryptography!=1.9,!=2.0.*,!=2.1.*,!=2.2.*,<38.0.0 in /anaconda/envs/azureml_py38/lib/python3.8/site-packages (from azureml-core~=1.43.0->azureml-sdk) (36.0.2)\n",
      "Requirement already satisfied, skipping upgrade: azure-mgmt-resource<22.0.0,>=15.0.0 in /anaconda/envs/azureml_py38/lib/python3.8/site-packages (from azureml-core~=1.43.0->azureml-sdk) (21.0.0)\n",
      "Requirement already satisfied, skipping upgrade: azure-mgmt-containerregistry<11,>=8.2.0 in /anaconda/envs/azureml_py38/lib/python3.8/site-packages (from azureml-core~=1.43.0->azureml-sdk) (9.1.0)\n",
      "Requirement already satisfied, skipping upgrade: azure-common<2.0.0,>=1.1.12 in /anaconda/envs/azureml_py38/lib/python3.8/site-packages (from azureml-core~=1.43.0->azureml-sdk) (1.1.28)\n",
      "Requirement already satisfied, skipping upgrade: pytz in /anaconda/envs/azureml_py38/lib/python3.8/site-packages (from azureml-core~=1.43.0->azureml-sdk) (2019.3)\n",
      "Requirement already satisfied, skipping upgrade: ndg-httpsclient<=0.5.1 in /anaconda/envs/azureml_py38/lib/python3.8/site-packages (from azureml-core~=1.43.0->azureml-sdk) (0.5.1)\n",
      "Requirement already satisfied, skipping upgrade: azure-core<2.0.0 in /anaconda/envs/azureml_py38/lib/python3.8/site-packages (from azureml-core~=1.43.0->azureml-sdk) (1.22.1)\n",
      "Requirement already satisfied, skipping upgrade: azure-mgmt-authorization<3,>=0.40.0 in /anaconda/envs/azureml_py38/lib/python3.8/site-packages (from azureml-core~=1.43.0->azureml-sdk) (2.0.0)\n",
      "Requirement already satisfied, skipping upgrade: msrest<0.7.0,>=0.5.1 in /anaconda/envs/azureml_py38/lib/python3.8/site-packages (from azureml-core~=1.43.0->azureml-sdk) (0.6.21)\n",
      "Requirement already satisfied, skipping upgrade: packaging<22.0,>=20.0 in /anaconda/envs/azureml_py38/lib/python3.8/site-packages (from azureml-core~=1.43.0->azureml-sdk) (21.3)\n",
      "Requirement already satisfied, skipping upgrade: azure-mgmt-keyvault<11.0.0,>=0.40.0 in /anaconda/envs/azureml_py38/lib/python3.8/site-packages (from azureml-core~=1.43.0->azureml-sdk) (9.3.0)\n",
      "Requirement already satisfied, skipping upgrade: python-dateutil<3.0.0,>=2.7.3 in /anaconda/envs/azureml_py38/lib/python3.8/site-packages (from azureml-core~=1.43.0->azureml-sdk) (2.8.2)\n",
      "Requirement already satisfied, skipping upgrade: contextlib2<22.0.0 in /anaconda/envs/azureml_py38/lib/python3.8/site-packages (from azureml-core~=1.43.0->azureml-sdk) (21.6.0)\n",
      "Requirement already satisfied, skipping upgrade: applicationinsights in /anaconda/envs/azureml_py38/lib/python3.8/site-packages (from azureml-telemetry~=1.43.0->azureml-widgets) (0.11.10)\n",
      "Requirement already satisfied, skipping upgrade: ipykernel>=4.5.1 in /anaconda/envs/azureml_py38/lib/python3.8/site-packages (from ipywidgets>=7.0.0->azureml-widgets) (6.6.0)\n",
      "Requirement already satisfied, skipping upgrade: ipython>=4.0.0; python_version >= \"3.3\" in /anaconda/envs/azureml_py38/lib/python3.8/site-packages (from ipywidgets>=7.0.0->azureml-widgets) (8.3.0)\n",
      "Requirement already satisfied, skipping upgrade: widgetsnbextension~=3.6.0 in /anaconda/envs/azureml_py38/lib/python3.8/site-packages (from ipywidgets>=7.0.0->azureml-widgets) (3.6.0)\n",
      "Requirement already satisfied, skipping upgrade: traitlets>=4.3.1 in /anaconda/envs/azureml_py38/lib/python3.8/site-packages (from ipywidgets>=7.0.0->azureml-widgets) (5.2.1.post0)\n",
      "Requirement already satisfied, skipping upgrade: jupyterlab-widgets>=1.0.0; python_version >= \"3.6\" in /anaconda/envs/azureml_py38/lib/python3.8/site-packages (from ipywidgets>=7.0.0->azureml-widgets) (1.1.0)\n",
      "Requirement already satisfied, skipping upgrade: nbformat>=4.2.0 in /anaconda/envs/azureml_py38/lib/python3.8/site-packages (from ipywidgets>=7.0.0->azureml-widgets) (5.2.0)\n",
      "Requirement already satisfied, skipping upgrade: ipython-genutils~=0.2.0 in /anaconda/envs/azureml_py38/lib/python3.8/site-packages (from ipywidgets>=7.0.0->azureml-widgets) (0.2.0)\n",
      "Requirement already satisfied, skipping upgrade: dotnetcore2<4.0.0,>=3.0.0 in /anaconda/envs/azureml_py38/lib/python3.8/site-packages (from azureml-dataprep<4.1.0a,>=4.0.0a->azureml-dataset-runtime[fuse]~=1.43.0->azureml-sdk) (3.1.23)\n",
      "Requirement already satisfied, skipping upgrade: azureml-dataprep-native<39.0.0,>=38.0.0 in /anaconda/envs/azureml_py38/lib/python3.8/site-packages (from azureml-dataprep<4.1.0a,>=4.0.0a->azureml-dataset-runtime[fuse]~=1.43.0->azureml-sdk) (38.0.0)\n",
      "Requirement already satisfied, skipping upgrade: azureml-dataprep-rslex~=2.6.0dev0 in /anaconda/envs/azureml_py38/lib/python3.8/site-packages (from azureml-dataprep<4.1.0a,>=4.0.0a->azureml-dataset-runtime[fuse]~=1.43.0->azureml-sdk) (2.6.1)\n",
      "Requirement already satisfied, skipping upgrade: pyyaml<7.0.0,>=5.1.0 in /anaconda/envs/azureml_py38/lib/python3.8/site-packages (from azureml-dataprep<4.1.0a,>=4.0.0a->azureml-dataset-runtime[fuse]~=1.43.0->azureml-sdk) (6.0)\n",
      "Requirement already satisfied, skipping upgrade: cloudpickle<3.0.0,>=1.1.0 in /anaconda/envs/azureml_py38/lib/python3.8/site-packages (from azureml-dataprep<4.1.0a,>=4.0.0a->azureml-dataset-runtime[fuse]~=1.43.0->azureml-sdk) (1.6.0)\n",
      "Requirement already satisfied, skipping upgrade: azure-identity==1.7.0 in /anaconda/envs/azureml_py38/lib/python3.8/site-packages (from azureml-dataprep<4.1.0a,>=4.0.0a->azureml-dataset-runtime[fuse]~=1.43.0->azureml-sdk) (1.7.0)\n",
      "Requirement already satisfied, skipping upgrade: jsonschema in /anaconda/envs/azureml_py38/lib/python3.8/site-packages (from azureml-dataprep<4.1.0a,>=4.0.0a->azureml-dataset-runtime[fuse]~=1.43.0->azureml-sdk) (4.5.1)\n",
      "Requirement already satisfied, skipping upgrade: portalocker<3,>=1.0; python_version >= \"3.5\" and platform_system != \"Windows\" in /anaconda/envs/azureml_py38/lib/python3.8/site-packages (from msal-extensions<=1.0.0,>=0.3.0->azureml-core~=1.43.0->azureml-sdk) (2.4.0)\n",
      "Requirement already satisfied, skipping upgrade: websocket-client>=0.32.0 in /anaconda/envs/azureml_py38/lib/python3.8/site-packages (from docker<6.0.0->azureml-core~=1.43.0->azureml-sdk) (1.3.2)\n",
      "Requirement already satisfied, skipping upgrade: charset-normalizer~=2.0.0; python_version >= \"3\" in /anaconda/envs/azureml_py38/lib/python3.8/site-packages (from requests[socks]<3.0.0,>=2.19.1->azureml-core~=1.43.0->azureml-sdk) (2.0.12)\n",
      "Requirement already satisfied, skipping upgrade: certifi>=2017.4.17 in /anaconda/envs/azureml_py38/lib/python3.8/site-packages (from requests[socks]<3.0.0,>=2.19.1->azureml-core~=1.43.0->azureml-sdk) (2022.5.18.1)\n",
      "Requirement already satisfied, skipping upgrade: idna<4,>=2.5; python_version >= \"3\" in /anaconda/envs/azureml_py38/lib/python3.8/site-packages (from requests[socks]<3.0.0,>=2.19.1->azureml-core~=1.43.0->azureml-sdk) (3.3)\n",
      "Requirement already satisfied, skipping upgrade: PySocks!=1.5.7,>=1.5.6; extra == \"socks\" in /anaconda/envs/azureml_py38/lib/python3.8/site-packages (from requests[socks]<3.0.0,>=2.19.1->azureml-core~=1.43.0->azureml-sdk) (1.7.1)\n",
      "Requirement already satisfied, skipping upgrade: jeepney>=0.6 in /anaconda/envs/azureml_py38/lib/python3.8/site-packages (from SecretStorage<4.0.0->azureml-core~=1.43.0->azureml-sdk) (0.8.0)\n",
      "Requirement already satisfied, skipping upgrade: backports.weakref in /anaconda/envs/azureml_py38/lib/python3.8/site-packages (from backports.tempfile->azureml-core~=1.43.0->azureml-sdk) (1.0.post1)\n",
      "Requirement already satisfied, skipping upgrade: pygments in /anaconda/envs/azureml_py38/lib/python3.8/site-packages (from knack~=0.9.0->azureml-core~=1.43.0->azureml-sdk) (2.12.0)\n",
      "Requirement already satisfied, skipping upgrade: tabulate in /anaconda/envs/azureml_py38/lib/python3.8/site-packages (from knack~=0.9.0->azureml-core~=1.43.0->azureml-sdk) (0.8.9)\n",
      "Requirement already satisfied, skipping upgrade: six in /anaconda/envs/azureml_py38/lib/python3.8/site-packages (from paramiko<3.0.0,>=2.0.8->azureml-core~=1.43.0->azureml-sdk) (1.16.0)\n",
      "Requirement already satisfied, skipping upgrade: pynacl>=1.0.1 in /anaconda/envs/azureml_py38/lib/python3.8/site-packages (from paramiko<3.0.0,>=2.0.8->azureml-core~=1.43.0->azureml-sdk) (1.5.0)\n",
      "Requirement already satisfied, skipping upgrade: bcrypt>=3.1.3 in /anaconda/envs/azureml_py38/lib/python3.8/site-packages (from paramiko<3.0.0,>=2.0.8->azureml-core~=1.43.0->azureml-sdk) (3.2.2)\n",
      "Requirement already satisfied, skipping upgrade: cffi>=1.12 in /anaconda/envs/azureml_py38/lib/python3.8/site-packages (from cryptography!=1.9,!=2.0.*,!=2.1.*,!=2.2.*,<38.0.0->azureml-core~=1.43.0->azureml-sdk) (1.15.0)\n",
      "Requirement already satisfied, skipping upgrade: pyasn1>=0.1.1 in /anaconda/envs/azureml_py38/lib/python3.8/site-packages (from ndg-httpsclient<=0.5.1->azureml-core~=1.43.0->azureml-sdk) (0.4.8)\n",
      "Requirement already satisfied, skipping upgrade: isodate>=0.6.0 in /anaconda/envs/azureml_py38/lib/python3.8/site-packages (from msrest<0.7.0,>=0.5.1->azureml-core~=1.43.0->azureml-sdk) (0.6.1)\n",
      "Requirement already satisfied, skipping upgrade: requests-oauthlib>=0.5.0 in /anaconda/envs/azureml_py38/lib/python3.8/site-packages (from msrest<0.7.0,>=0.5.1->azureml-core~=1.43.0->azureml-sdk) (1.3.1)\n",
      "Requirement already satisfied, skipping upgrade: pyparsing!=3.0.5,>=2.0.2 in /anaconda/envs/azureml_py38/lib/python3.8/site-packages (from packaging<22.0,>=20.0->azureml-core~=1.43.0->azureml-sdk) (3.0.9)\n",
      "Requirement already satisfied, skipping upgrade: tornado<7.0,>=4.2 in /anaconda/envs/azureml_py38/lib/python3.8/site-packages (from ipykernel>=4.5.1->ipywidgets>=7.0.0->azureml-widgets) (6.1)\n",
      "Requirement already satisfied, skipping upgrade: matplotlib-inline<0.2.0,>=0.1.0 in /anaconda/envs/azureml_py38/lib/python3.8/site-packages (from ipykernel>=4.5.1->ipywidgets>=7.0.0->azureml-widgets) (0.1.3)\n",
      "Requirement already satisfied, skipping upgrade: jupyter-client<8.0 in /anaconda/envs/azureml_py38/lib/python3.8/site-packages (from ipykernel>=4.5.1->ipywidgets>=7.0.0->azureml-widgets) (6.1.12)\n",
      "Requirement already satisfied, skipping upgrade: debugpy<2.0,>=1.0.0 in /anaconda/envs/azureml_py38/lib/python3.8/site-packages (from ipykernel>=4.5.1->ipywidgets>=7.0.0->azureml-widgets) (1.6.0)\n",
      "Requirement already satisfied, skipping upgrade: backcall in /anaconda/envs/azureml_py38/lib/python3.8/site-packages (from ipython>=4.0.0; python_version >= \"3.3\"->ipywidgets>=7.0.0->azureml-widgets) (0.2.0)\n",
      "Requirement already satisfied, skipping upgrade: pickleshare in /anaconda/envs/azureml_py38/lib/python3.8/site-packages (from ipython>=4.0.0; python_version >= \"3.3\"->ipywidgets>=7.0.0->azureml-widgets) (0.7.5)\n",
      "Requirement already satisfied, skipping upgrade: setuptools>=18.5 in /anaconda/envs/azureml_py38/lib/python3.8/site-packages (from ipython>=4.0.0; python_version >= \"3.3\"->ipywidgets>=7.0.0->azureml-widgets) (49.6.0)\n",
      "Requirement already satisfied, skipping upgrade: jedi>=0.16 in /anaconda/envs/azureml_py38/lib/python3.8/site-packages (from ipython>=4.0.0; python_version >= \"3.3\"->ipywidgets>=7.0.0->azureml-widgets) (0.18.0)\n",
      "Requirement already satisfied, skipping upgrade: stack-data in /anaconda/envs/azureml_py38/lib/python3.8/site-packages (from ipython>=4.0.0; python_version >= \"3.3\"->ipywidgets>=7.0.0->azureml-widgets) (0.2.0)\n",
      "Requirement already satisfied, skipping upgrade: prompt-toolkit!=3.0.0,!=3.0.1,<3.1.0,>=2.0.0 in /anaconda/envs/azureml_py38/lib/python3.8/site-packages (from ipython>=4.0.0; python_version >= \"3.3\"->ipywidgets>=7.0.0->azureml-widgets) (3.0.28)\n",
      "Requirement already satisfied, skipping upgrade: decorator in /anaconda/envs/azureml_py38/lib/python3.8/site-packages (from ipython>=4.0.0; python_version >= \"3.3\"->ipywidgets>=7.0.0->azureml-widgets) (5.1.1)\n",
      "Requirement already satisfied, skipping upgrade: pexpect>4.3; sys_platform != \"win32\" in /anaconda/envs/azureml_py38/lib/python3.8/site-packages (from ipython>=4.0.0; python_version >= \"3.3\"->ipywidgets>=7.0.0->azureml-widgets) (4.8.0)\n",
      "Requirement already satisfied, skipping upgrade: notebook>=4.4.1 in /anaconda/envs/azureml_py38/lib/python3.8/site-packages (from widgetsnbextension~=3.6.0->ipywidgets>=7.0.0->azureml-widgets) (6.4.11)\n",
      "Requirement already satisfied, skipping upgrade: jupyter-core in /anaconda/envs/azureml_py38/lib/python3.8/site-packages (from nbformat>=4.2.0->ipywidgets>=7.0.0->azureml-widgets) (4.10.0)\n",
      "Requirement already satisfied, skipping upgrade: distro>=1.2.0 in /anaconda/envs/azureml_py38/lib/python3.8/site-packages (from dotnetcore2<4.0.0,>=3.0.0->azureml-dataprep<4.1.0a,>=4.0.0a->azureml-dataset-runtime[fuse]~=1.43.0->azureml-sdk) (1.7.0)\n",
      "Requirement already satisfied, skipping upgrade: pyrsistent!=0.17.0,!=0.17.1,!=0.17.2,>=0.14.0 in /anaconda/envs/azureml_py38/lib/python3.8/site-packages (from jsonschema->azureml-dataprep<4.1.0a,>=4.0.0a->azureml-dataset-runtime[fuse]~=1.43.0->azureml-sdk) (0.18.1)\n",
      "Requirement already satisfied, skipping upgrade: attrs>=17.4.0 in /anaconda/envs/azureml_py38/lib/python3.8/site-packages (from jsonschema->azureml-dataprep<4.1.0a,>=4.0.0a->azureml-dataset-runtime[fuse]~=1.43.0->azureml-sdk) (21.4.0)\n",
      "Requirement already satisfied, skipping upgrade: importlib-resources>=1.4.0; python_version < \"3.9\" in /anaconda/envs/azureml_py38/lib/python3.8/site-packages (from jsonschema->azureml-dataprep<4.1.0a,>=4.0.0a->azureml-dataset-runtime[fuse]~=1.43.0->azureml-sdk) (5.7.1)\n",
      "Requirement already satisfied, skipping upgrade: pycparser in /anaconda/envs/azureml_py38/lib/python3.8/site-packages (from cffi>=1.12->cryptography!=1.9,!=2.0.*,!=2.1.*,!=2.2.*,<38.0.0->azureml-core~=1.43.0->azureml-sdk) (2.21)\n",
      "Requirement already satisfied, skipping upgrade: oauthlib>=3.0.0 in /anaconda/envs/azureml_py38/lib/python3.8/site-packages (from requests-oauthlib>=0.5.0->msrest<0.7.0,>=0.5.1->azureml-core~=1.43.0->azureml-sdk) (3.2.0)\n",
      "Requirement already satisfied, skipping upgrade: pyzmq>=13 in /anaconda/envs/azureml_py38/lib/python3.8/site-packages (from jupyter-client<8.0->ipykernel>=4.5.1->ipywidgets>=7.0.0->azureml-widgets) (23.0.0)\n",
      "Requirement already satisfied, skipping upgrade: parso<0.9.0,>=0.8.0 in /anaconda/envs/azureml_py38/lib/python3.8/site-packages (from jedi>=0.16->ipython>=4.0.0; python_version >= \"3.3\"->ipywidgets>=7.0.0->azureml-widgets) (0.8.3)\n",
      "Requirement already satisfied, skipping upgrade: pure-eval in /anaconda/envs/azureml_py38/lib/python3.8/site-packages (from stack-data->ipython>=4.0.0; python_version >= \"3.3\"->ipywidgets>=7.0.0->azureml-widgets) (0.2.2)\n",
      "Requirement already satisfied, skipping upgrade: asttokens in /anaconda/envs/azureml_py38/lib/python3.8/site-packages (from stack-data->ipython>=4.0.0; python_version >= \"3.3\"->ipywidgets>=7.0.0->azureml-widgets) (2.0.5)\n",
      "Requirement already satisfied, skipping upgrade: executing in /anaconda/envs/azureml_py38/lib/python3.8/site-packages (from stack-data->ipython>=4.0.0; python_version >= \"3.3\"->ipywidgets>=7.0.0->azureml-widgets) (0.8.3)\n",
      "Requirement already satisfied, skipping upgrade: wcwidth in /anaconda/envs/azureml_py38/lib/python3.8/site-packages (from prompt-toolkit!=3.0.0,!=3.0.1,<3.1.0,>=2.0.0->ipython>=4.0.0; python_version >= \"3.3\"->ipywidgets>=7.0.0->azureml-widgets) (0.2.5)\n",
      "Requirement already satisfied, skipping upgrade: ptyprocess>=0.5 in /anaconda/envs/azureml_py38/lib/python3.8/site-packages (from pexpect>4.3; sys_platform != \"win32\"->ipython>=4.0.0; python_version >= \"3.3\"->ipywidgets>=7.0.0->azureml-widgets) (0.7.0)\n",
      "Requirement already satisfied, skipping upgrade: Send2Trash>=1.8.0 in /anaconda/envs/azureml_py38/lib/python3.8/site-packages (from notebook>=4.4.1->widgetsnbextension~=3.6.0->ipywidgets>=7.0.0->azureml-widgets) (1.8.0)\n",
      "Requirement already satisfied, skipping upgrade: nbconvert>=5 in /anaconda/envs/azureml_py38/lib/python3.8/site-packages (from notebook>=4.4.1->widgetsnbextension~=3.6.0->ipywidgets>=7.0.0->azureml-widgets) (6.5.0)\n",
      "Requirement already satisfied, skipping upgrade: terminado>=0.8.3 in /anaconda/envs/azureml_py38/lib/python3.8/site-packages (from notebook>=4.4.1->widgetsnbextension~=3.6.0->ipywidgets>=7.0.0->azureml-widgets) (0.15.0)\n",
      "Requirement already satisfied, skipping upgrade: nest-asyncio>=1.5 in /anaconda/envs/azureml_py38/lib/python3.8/site-packages (from notebook>=4.4.1->widgetsnbextension~=3.6.0->ipywidgets>=7.0.0->azureml-widgets) (1.5.5)\n",
      "Requirement already satisfied, skipping upgrade: argon2-cffi in /anaconda/envs/azureml_py38/lib/python3.8/site-packages (from notebook>=4.4.1->widgetsnbextension~=3.6.0->ipywidgets>=7.0.0->azureml-widgets) (21.3.0)\n",
      "Requirement already satisfied, skipping upgrade: prometheus-client in /anaconda/envs/azureml_py38/lib/python3.8/site-packages (from notebook>=4.4.1->widgetsnbextension~=3.6.0->ipywidgets>=7.0.0->azureml-widgets) (0.14.1)\n",
      "Requirement already satisfied, skipping upgrade: zipp>=3.1.0; python_version < \"3.10\" in /anaconda/envs/azureml_py38/lib/python3.8/site-packages (from importlib-resources>=1.4.0; python_version < \"3.9\"->jsonschema->azureml-dataprep<4.1.0a,>=4.0.0a->azureml-dataset-runtime[fuse]~=1.43.0->azureml-sdk) (3.8.0)\n",
      "Requirement already satisfied, skipping upgrade: mistune<2,>=0.8.1 in /anaconda/envs/azureml_py38/lib/python3.8/site-packages (from nbconvert>=5->notebook>=4.4.1->widgetsnbextension~=3.6.0->ipywidgets>=7.0.0->azureml-widgets) (0.8.4)\n",
      "Requirement already satisfied, skipping upgrade: defusedxml in /anaconda/envs/azureml_py38/lib/python3.8/site-packages (from nbconvert>=5->notebook>=4.4.1->widgetsnbextension~=3.6.0->ipywidgets>=7.0.0->azureml-widgets) (0.7.1)\n",
      "Requirement already satisfied, skipping upgrade: pandocfilters>=1.4.1 in /anaconda/envs/azureml_py38/lib/python3.8/site-packages (from nbconvert>=5->notebook>=4.4.1->widgetsnbextension~=3.6.0->ipywidgets>=7.0.0->azureml-widgets) (1.5.0)\n",
      "Requirement already satisfied, skipping upgrade: jupyterlab-pygments in /anaconda/envs/azureml_py38/lib/python3.8/site-packages (from nbconvert>=5->notebook>=4.4.1->widgetsnbextension~=3.6.0->ipywidgets>=7.0.0->azureml-widgets) (0.2.2)\n",
      "Requirement already satisfied, skipping upgrade: entrypoints>=0.2.2 in /anaconda/envs/azureml_py38/lib/python3.8/site-packages (from nbconvert>=5->notebook>=4.4.1->widgetsnbextension~=3.6.0->ipywidgets>=7.0.0->azureml-widgets) (0.4)\n",
      "Requirement already satisfied, skipping upgrade: beautifulsoup4 in /anaconda/envs/azureml_py38/lib/python3.8/site-packages (from nbconvert>=5->notebook>=4.4.1->widgetsnbextension~=3.6.0->ipywidgets>=7.0.0->azureml-widgets) (4.11.1)\n",
      "Requirement already satisfied, skipping upgrade: tinycss2 in /anaconda/envs/azureml_py38/lib/python3.8/site-packages (from nbconvert>=5->notebook>=4.4.1->widgetsnbextension~=3.6.0->ipywidgets>=7.0.0->azureml-widgets) (1.1.1)\n",
      "Requirement already satisfied, skipping upgrade: nbclient>=0.5.0 in /anaconda/envs/azureml_py38/lib/python3.8/site-packages (from nbconvert>=5->notebook>=4.4.1->widgetsnbextension~=3.6.0->ipywidgets>=7.0.0->azureml-widgets) (0.6.4)\n",
      "Requirement already satisfied, skipping upgrade: bleach in /anaconda/envs/azureml_py38/lib/python3.8/site-packages (from nbconvert>=5->notebook>=4.4.1->widgetsnbextension~=3.6.0->ipywidgets>=7.0.0->azureml-widgets) (5.0.0)\n",
      "Requirement already satisfied, skipping upgrade: argon2-cffi-bindings in /anaconda/envs/azureml_py38/lib/python3.8/site-packages (from argon2-cffi->notebook>=4.4.1->widgetsnbextension~=3.6.0->ipywidgets>=7.0.0->azureml-widgets) (21.2.0)\n",
      "Requirement already satisfied, skipping upgrade: soupsieve>1.2 in /anaconda/envs/azureml_py38/lib/python3.8/site-packages (from beautifulsoup4->nbconvert>=5->notebook>=4.4.1->widgetsnbextension~=3.6.0->ipywidgets>=7.0.0->azureml-widgets) (2.3.2.post1)\n",
      "Requirement already satisfied, skipping upgrade: webencodings>=0.4 in /anaconda/envs/azureml_py38/lib/python3.8/site-packages (from tinycss2->nbconvert>=5->notebook>=4.4.1->widgetsnbextension~=3.6.0->ipywidgets>=7.0.0->azureml-widgets) (0.5.1)\n"
     ]
    }
   ],
   "source": [
    "!pip install --upgrade azureml-sdk azureml-widgets"
   ]
  },
  {
   "cell_type": "code",
   "execution_count": 2,
   "id": "fb3d83e8",
   "metadata": {},
   "outputs": [
    {
     "name": "stderr",
     "output_type": "stream",
     "text": [
      "2022/07/18 01:48:12 INFO mlflow.tracking.fluent: Experiment with name 'churn-mlflow-experiment' does not exist. Creating a new experiment.\n"
     ]
    },
    {
     "data": {
      "text/plain": [
       "<Experiment: artifact_location='', experiment_id='a9809072-6e3f-43af-8ba1-6c4cf7709e14', lifecycle_stage='active', name='churn-mlflow-experiment', tags={}>"
      ]
     },
     "execution_count": 2,
     "metadata": {},
     "output_type": "execute_result"
    }
   ],
   "source": [
    "import mlflow\n",
    "mlflow.set_experiment(experiment_name=\"churn-mlflow-experiment\")"
   ]
  },
  {
   "cell_type": "code",
   "execution_count": 3,
   "id": "c45fa58c",
   "metadata": {},
   "outputs": [],
   "source": [
    "from azureml.core import Experiment\n",
    "from azureml.core import Model\n",
    "from sklearn.model_selection import train_test_split\n",
    "from azureml.core import Dataset\n",
    "from azureml.core import Workspace\n",
    "\n",
    "\n",
    "# Load the workspace from the saved config file\n",
    "ws = Workspace.from_config()\n",
    "default_ds = ws.get_default_datastore()\n",
    "\n",
    "# load the diabetes dataset\n",
    "churns=Dataset.Tabular.from_delimited_files(path=(default_ds, 'trainingset/'), validate=False)\n",
    "churnsdf=churns.to_pandas_dataframe()\n",
    "\n",
    "# Separate features and labels\n",
    "x_train, x_test, y_train, y_test = train_test_split(\n",
    "    churnsdf.drop(['customer_churned', 'customer_id'], axis = 1), churnsdf[\"customer_churned\"], test_size=0.3\n",
    ")\n",
    "\n",
    "\n"
   ]
  },
  {
   "cell_type": "code",
   "execution_count": 4,
   "id": "40b1d153",
   "metadata": {},
   "outputs": [],
   "source": [
    "import numpy as np\n",
    "from sklearn.preprocessing import OrdinalEncoder\n",
    "\n",
    "from sklearn.compose import ColumnTransformer\n",
    "from xgboost import XGBClassifier\n",
    "\n",
    "encoder = ColumnTransformer(\n",
    "    [\n",
    "        (\n",
    "            \"cat_encoding\",\n",
    "            OrdinalEncoder(\n",
    "                categories=\"auto\",\n",
    "            ),\n",
    "            [\"email_domain\"],\n",
    "        )\n",
    "    ],\n",
    "    remainder=\"passthrough\",\n",
    ")\n",
    "\n",
    "model = XGBClassifier(use_label_encoder=False, eval_metric=\"logloss\")"
   ]
  },
  {
   "cell_type": "code",
   "execution_count": 5,
   "id": "1eb4ab56",
   "metadata": {},
   "outputs": [],
   "source": [
    "from sklearn.pipeline import Pipeline\n",
    "from sklearn.compose import ColumnTransformer\n",
    "\n",
    "pipeline = Pipeline(steps=[(\"encoding\", encoder), (\"model\", model)])"
   ]
  },
  {
   "cell_type": "code",
   "execution_count": 6,
   "id": "2775b2b8",
   "metadata": {},
   "outputs": [
    {
     "data": {
      "text/plain": [
       "Pipeline(memory=None,\n",
       "         steps=[('encoding',\n",
       "                 ColumnTransformer(n_jobs=None, remainder='passthrough',\n",
       "                                   sparse_threshold=0.3,\n",
       "                                   transformer_weights=None,\n",
       "                                   transformers=[('cat_encoding',\n",
       "                                                  OrdinalEncoder(categories='auto',\n",
       "                                                                 dtype=<class 'numpy.float64'>),\n",
       "                                                  ['email_domain'])],\n",
       "                                   verbose=False)),\n",
       "                ('model',\n",
       "                 XGBClassifier(base_score=None, booster=None,\n",
       "                               colsample_bylevel=None, colsamp...\n",
       "                               max_delta_step=None, max_depth=None,\n",
       "                               min_child_weight=None, missing=nan,\n",
       "                               monotone_constraints=None, n_estimators=100,\n",
       "                               n_jobs=None, num_parallel_tree=None,\n",
       "                               objective='binary:logistic', random_state=None,\n",
       "                               reg_alpha=None, reg_lambda=None,\n",
       "                               scale_pos_weight=None, subsample=None,\n",
       "                               tree_method=None, use_label_encoder=False,\n",
       "                               validate_parameters=None, verbosity=None))],\n",
       "         verbose=False)"
      ]
     },
     "execution_count": 6,
     "metadata": {},
     "output_type": "execute_result"
    }
   ],
   "source": [
    "pipeline"
   ]
  },
  {
   "cell_type": "code",
   "execution_count": 7,
   "id": "733e8d89",
   "metadata": {},
   "outputs": [
    {
     "name": "stderr",
     "output_type": "stream",
     "text": [
      "/anaconda/envs/azureml_py38/lib/python3.8/site-packages/mlflow/models/signature.py:129: UserWarning: Hint: Inferred schema contains integer column(s). Integer columns in Python cannot represent missing values. If your input data contains missing values at inference time, it will be encoded as floats and will cause a schema enforcement error. The best way to avoid this problem is to infer the model schema based on a realistic data sample (training dataset) that includes missing values. Alternatively, you can declare integer columns as doubles (float64) whenever these columns may have missing values. See `Handling Integers With Missing Values <https://www.mlflow.org/docs/latest/models.html#handling-integers-with-missing-values>`_ for more details.\n",
      "  inputs = _infer_schema(model_input)\n",
      "/anaconda/envs/azureml_py38/lib/python3.8/site-packages/mlflow/models/signature.py:130: UserWarning: Hint: Inferred schema contains integer column(s). Integer columns in Python cannot represent missing values. If your input data contains missing values at inference time, it will be encoded as floats and will cause a schema enforcement error. The best way to avoid this problem is to infer the model schema based on a realistic data sample (training dataset) that includes missing values. Alternatively, you can declare integer columns as doubles (float64) whenever these columns may have missing values. See `Handling Integers With Missing Values <https://www.mlflow.org/docs/latest/models.html#handling-integers-with-missing-values>`_ for more details.\n",
      "  outputs = _infer_schema(model_output) if model_output is not None else None\n"
     ]
    }
   ],
   "source": [
    "from mlflow.models import infer_signature\n",
    "\n",
    "signature = infer_signature(x_test, y_test)"
   ]
  },
  {
   "cell_type": "code",
   "execution_count": 8,
   "id": "267fca86",
   "metadata": {},
   "outputs": [
    {
     "data": {
      "text/plain": [
       "inputs: \n",
       "  ['current_linkedin_activity': long, 'email_domain': string, 'linkedin_skill_code': long, 'mentor_program_involvement': long, 'negative_review_in_past_5_years': long, 'recruiting_location_code': long, 'recruiting_method_code': long, 'weekly_consumption': long, 'years_of_membership': long, 'survey_attitude_towards_company': long, 'survey_attitude_towards_product_features': long, 'survey_attitude_towards_performance': long, 'survey_attitude_towards_usability': long, 'survey_attitude_towards_product_quality': long, 'survey_attitude_towards_customer_service': long]\n",
       "outputs: \n",
       "  [long]"
      ]
     },
     "execution_count": 8,
     "metadata": {},
     "output_type": "execute_result"
    }
   ],
   "source": [
    "signature"
   ]
  },
  {
   "cell_type": "code",
   "execution_count": 9,
   "id": "3a551420",
   "metadata": {},
   "outputs": [],
   "source": [
    "with mlflow.start_run() as run:\n",
    "    pipeline.fit(x_train, y_train)\n",
    "    mlflow.sklearn.log_model(pipeline, artifact_path=\"pipeline\", signature=signature)"
   ]
  },
  {
   "cell_type": "code",
   "execution_count": 11,
   "id": "ce12ef5e",
   "metadata": {},
   "outputs": [
    {
     "data": {
      "text/html": [
       "<div>\n",
       "<style scoped>\n",
       "    .dataframe tbody tr th:only-of-type {\n",
       "        vertical-align: middle;\n",
       "    }\n",
       "\n",
       "    .dataframe tbody tr th {\n",
       "        vertical-align: top;\n",
       "    }\n",
       "\n",
       "    .dataframe thead th {\n",
       "        text-align: right;\n",
       "    }\n",
       "</style>\n",
       "<table border=\"1\" class=\"dataframe\">\n",
       "  <thead>\n",
       "    <tr style=\"text-align: right;\">\n",
       "      <th></th>\n",
       "      <th>run_id</th>\n",
       "      <th>experiment_id</th>\n",
       "      <th>status</th>\n",
       "      <th>artifact_uri</th>\n",
       "      <th>start_time</th>\n",
       "      <th>end_time</th>\n",
       "      <th>tags.mlflow.source.name</th>\n",
       "      <th>tags.mlflow.source.type</th>\n",
       "      <th>tags.mlflow.user</th>\n",
       "      <th>tags.mlflow.rootRunId</th>\n",
       "    </tr>\n",
       "  </thead>\n",
       "  <tbody>\n",
       "    <tr>\n",
       "      <th>0</th>\n",
       "      <td>7171b295-8ac6-4590-b781-c034c5a4244a</td>\n",
       "      <td>a9809072-6e3f-43af-8ba1-6c4cf7709e14</td>\n",
       "      <td>FINISHED</td>\n",
       "      <td></td>\n",
       "      <td>2022-07-18 01:48:44.475000+00:00</td>\n",
       "      <td>2022-07-18 01:48:54.660000+00:00</td>\n",
       "      <td>/anaconda/envs/azureml_py38/lib/python3.8/site...</td>\n",
       "      <td>LOCAL</td>\n",
       "      <td>Liping Huang</td>\n",
       "      <td>7171b295-8ac6-4590-b781-c034c5a4244a</td>\n",
       "    </tr>\n",
       "  </tbody>\n",
       "</table>\n",
       "</div>"
      ],
      "text/plain": [
       "                                 run_id                         experiment_id  \\\n",
       "0  7171b295-8ac6-4590-b781-c034c5a4244a  a9809072-6e3f-43af-8ba1-6c4cf7709e14   \n",
       "\n",
       "     status artifact_uri                       start_time  \\\n",
       "0  FINISHED              2022-07-18 01:48:44.475000+00:00   \n",
       "\n",
       "                          end_time  \\\n",
       "0 2022-07-18 01:48:54.660000+00:00   \n",
       "\n",
       "                             tags.mlflow.source.name tags.mlflow.source.type  \\\n",
       "0  /anaconda/envs/azureml_py38/lib/python3.8/site...                   LOCAL   \n",
       "\n",
       "  tags.mlflow.user                 tags.mlflow.rootRunId  \n",
       "0     Liping Huang  7171b295-8ac6-4590-b781-c034c5a4244a  "
      ]
     },
     "execution_count": 11,
     "metadata": {},
     "output_type": "execute_result"
    }
   ],
   "source": [
    "runs = mlflow.search_runs(experiment_names=[ \"churn-mlflow-experiment\" ])\n",
    "runs[runs.status == \"FINISHED\"]"
   ]
  },
  {
   "cell_type": "code",
   "execution_count": 23,
   "id": "0a3538dd",
   "metadata": {},
   "outputs": [
    {
     "name": "stdout",
     "output_type": "stream",
     "text": [
      "7171b295-8ac6-4590-b781-c034c5a4244a\n"
     ]
    }
   ],
   "source": [
    "run_id = runs.run_id[0]\n",
    "\n",
    "print(run_id)"
   ]
  },
  {
   "cell_type": "code",
   "execution_count": 25,
   "id": "6e6446db",
   "metadata": {},
   "outputs": [
    {
     "name": "stderr",
     "output_type": "stream",
     "text": [
      "Successfully registered model 'churns_mlflow'.\n",
      "2022/07/18 02:00:41 INFO mlflow.tracking._model_registry.client: Waiting up to 300 seconds for model version to finish creation.                     Model name: churns_mlflow, version 1\n",
      "Created version '1' of model 'churns_mlflow'.\n"
     ]
    },
    {
     "data": {
      "text/plain": [
       "<ModelVersion: creation_timestamp=1658109641821, current_stage='None', description='', last_updated_timestamp=1658109641821, name='churns_mlflow', run_id='7171b295-8ac6-4590-b781-c034c5a4244a', run_link='', source='azureml://experiments/churn-mlflow-experiment/runs/7171b295-8ac6-4590-b781-c034c5a4244a/artifacts/pipeline', status='READY', status_message='', tags={}, user_id='', version='1'>"
      ]
     },
     "execution_count": 25,
     "metadata": {},
     "output_type": "execute_result"
    }
   ],
   "source": [
    "model_name = \"churns_mlflow\"\n",
    "mlflow.register_model(f\"runs:/{run_id}/pipeline\", model_name)"
   ]
  }
 ],
 "metadata": {
  "kernelspec": {
   "display_name": "Python 3.8 - AzureML",
   "language": "python",
   "name": "python38-azureml"
  },
  "language_info": {
   "codemirror_mode": {
    "name": "ipython",
    "version": 3
   },
   "file_extension": ".py",
   "mimetype": "text/x-python",
   "name": "python",
   "nbconvert_exporter": "python",
   "pygments_lexer": "ipython3",
   "version": "3.8.5"
  }
 },
 "nbformat": 4,
 "nbformat_minor": 5
}
