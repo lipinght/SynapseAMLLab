{
  "cells": [
    {
      "cell_type": "code",
      "source": [
        "from azureml.opendatasets import NycTlcYellow\r\n",
        "from datetime import datetime\r\n",
        "from dateutil import parser\r\n",
        "\r\n",
        "start_date = parser.parse('2018-05-01')\r\n",
        "end_date = parser.parse('2018-05-07')\r\n",
        "nyc_tlc = NycTlcYellow(start_date=start_date, end_date=end_date)\r\n",
        "nyc_tlc_df = nyc_tlc.to_pandas_dataframe()\r\n",
        "nyc_tlc_df.info()"
      ],
      "outputs": [
        {
          "output_type": "display_data",
          "data": {
            "application/vnd.livy.statement-meta+json": {
              "spark_pool": "sparkpool",
              "session_id": "9",
              "statement_id": 63,
              "state": "finished",
              "livy_statement_state": "available",
              "queued_time": "2022-07-20T06:51:31.3598886Z",
              "session_start_time": null,
              "execution_start_time": "2022-07-20T06:51:31.7968873Z",
              "execution_finish_time": "2022-07-20T06:51:42.8359624Z",
              "spark_jobs": null
            },
            "text/plain": "StatementMeta(sparkpool, 9, 63, Finished, Available)"
          },
          "metadata": {}
        },
        {
          "output_type": "stream",
          "name": "stdout",
          "text": [
            "[Info] read from /tmp/tmp9km9zxf0/https%3A/%2Fazureopendatastorage.azurefd.net/nyctlc/yellow/puYear=2018/puMonth=5/part-00000-tid-8898858832658823408-a1de80bd-eed3-4d11-b9d4-fa74bfbd47bc-426339-118.c000.snappy.parquet\n[Info] read from /tmp/tmp9km9zxf0/https%3A/%2Fazureopendatastorage.azurefd.net/nyctlc/yellow/puYear=2018/puMonth=5/part-00001-tid-8898858832658823408-a1de80bd-eed3-4d11-b9d4-fa74bfbd47bc-426336-117.c000.snappy.parquet\n[Info] read from /tmp/tmp9km9zxf0/https%3A/%2Fazureopendatastorage.azurefd.net/nyctlc/yellow/puYear=2018/puMonth=5/part-00002-tid-8898858832658823408-a1de80bd-eed3-4d11-b9d4-fa74bfbd47bc-426334-119.c000.snappy.parquet\n[Info] read from /tmp/tmp9km9zxf0/https%3A/%2Fazureopendatastorage.azurefd.net/nyctlc/yellow/puYear=2018/puMonth=5/part-00003-tid-8898858832658823408-a1de80bd-eed3-4d11-b9d4-fa74bfbd47bc-426340-115.c000.snappy.parquet\n[Info] read from /tmp/tmp9km9zxf0/https%3A/%2Fazureopendatastorage.azurefd.net/nyctlc/yellow/puYear=2018/puMonth=5/part-00004-tid-8898858832658823408-a1de80bd-eed3-4d11-b9d4-fa74bfbd47bc-426331-116.c000.snappy.parquet\n[Info] read from /tmp/tmp9km9zxf0/https%3A/%2Fazureopendatastorage.azurefd.net/nyctlc/yellow/puYear=2018/puMonth=5/part-00005-tid-8898858832658823408-a1de80bd-eed3-4d11-b9d4-fa74bfbd47bc-426324-117.c000.snappy.parquet\n[Info] read from /tmp/tmp9km9zxf0/https%3A/%2Fazureopendatastorage.azurefd.net/nyctlc/yellow/puYear=2018/puMonth=5/part-00006-tid-8898858832658823408-a1de80bd-eed3-4d11-b9d4-fa74bfbd47bc-426326-116.c000.snappy.parquet\n[Info] read from /tmp/tmp9km9zxf0/https%3A/%2Fazureopendatastorage.azurefd.net/nyctlc/yellow/puYear=2018/puMonth=5/part-00007-tid-8898858832658823408-a1de80bd-eed3-4d11-b9d4-fa74bfbd47bc-426332-118.c000.snappy.parquet\n[Info] read from /tmp/tmp9km9zxf0/https%3A/%2Fazureopendatastorage.azurefd.net/nyctlc/yellow/puYear=2018/puMonth=5/part-00008-tid-8898858832658823408-a1de80bd-eed3-4d11-b9d4-fa74bfbd47bc-426341-118.c000.snappy.parquet\n[Info] read from /tmp/tmp9km9zxf0/https%3A/%2Fazureopendatastorage.azurefd.net/nyctlc/yellow/puYear=2018/puMonth=5/part-00009-tid-8898858832658823408-a1de80bd-eed3-4d11-b9d4-fa74bfbd47bc-426325-116.c000.snappy.parquet\n[Info] read from /tmp/tmp9km9zxf0/https%3A/%2Fazureopendatastorage.azurefd.net/nyctlc/yellow/puYear=2018/puMonth=5/part-00010-tid-8898858832658823408-a1de80bd-eed3-4d11-b9d4-fa74bfbd47bc-426335-117.c000.snappy.parquet\n[Info] read from /tmp/tmp9km9zxf0/https%3A/%2Fazureopendatastorage.azurefd.net/nyctlc/yellow/puYear=2018/puMonth=5/part-00011-tid-8898858832658823408-a1de80bd-eed3-4d11-b9d4-fa74bfbd47bc-426338-117.c000.snappy.parquet\n[Info] read from /tmp/tmp9km9zxf0/https%3A/%2Fazureopendatastorage.azurefd.net/nyctlc/yellow/puYear=2018/puMonth=5/part-00012-tid-8898858832658823408-a1de80bd-eed3-4d11-b9d4-fa74bfbd47bc-426337-117.c000.snappy.parquet\n[Info] read from /tmp/tmp9km9zxf0/https%3A/%2Fazureopendatastorage.azurefd.net/nyctlc/yellow/puYear=2018/puMonth=5/part-00013-tid-8898858832658823408-a1de80bd-eed3-4d11-b9d4-fa74bfbd47bc-426327-117.c000.snappy.parquet\n[Info] read from /tmp/tmp9km9zxf0/https%3A/%2Fazureopendatastorage.azurefd.net/nyctlc/yellow/puYear=2018/puMonth=5/part-00014-tid-8898858832658823408-a1de80bd-eed3-4d11-b9d4-fa74bfbd47bc-426330-118.c000.snappy.parquet\n[Info] read from /tmp/tmp9km9zxf0/https%3A/%2Fazureopendatastorage.azurefd.net/nyctlc/yellow/puYear=2018/puMonth=5/part-00015-tid-8898858832658823408-a1de80bd-eed3-4d11-b9d4-fa74bfbd47bc-426342-117.c000.snappy.parquet\n[Info] read from /tmp/tmp9km9zxf0/https%3A/%2Fazureopendatastorage.azurefd.net/nyctlc/yellow/puYear=2018/puMonth=5/part-00016-tid-8898858832658823408-a1de80bd-eed3-4d11-b9d4-fa74bfbd47bc-426328-116.c000.snappy.parquet\n[Info] read from /tmp/tmp9km9zxf0/https%3A/%2Fazureopendatastorage.azurefd.net/nyctlc/yellow/puYear=2018/puMonth=5/part-00017-tid-8898858832658823408-a1de80bd-eed3-4d11-b9d4-fa74bfbd47bc-426323-118.c000.snappy.parquet\n[Info] read from /tmp/tmp9km9zxf0/https%3A/%2Fazureopendatastorage.azurefd.net/nyctlc/yellow/puYear=2018/puMonth=5/part-00018-tid-8898858832658823408-a1de80bd-eed3-4d11-b9d4-fa74bfbd47bc-426329-118.c000.snappy.parquet\n[Info] read from /tmp/tmp9km9zxf0/https%3A/%2Fazureopendatastorage.azurefd.net/nyctlc/yellow/puYear=2018/puMonth=5/part-00019-tid-8898858832658823408-a1de80bd-eed3-4d11-b9d4-fa74bfbd47bc-426333-116.c000.snappy.parquet\n<class 'pandas.core.frame.DataFrame'>\nInt64Index: 1909118 entries, 12 to 405777\nData columns (total 21 columns):\n #   Column                Dtype         \n---  ------                -----         \n 0   vendorID              object        \n 1   tpepPickupDateTime    datetime64[ns]\n 2   tpepDropoffDateTime   datetime64[ns]\n 3   passengerCount        int32         \n 4   tripDistance          float64       \n 5   puLocationId          object        \n 6   doLocationId          object        \n 7   startLon              float64       \n 8   startLat              float64       \n 9   endLon                float64       \n 10  endLat                float64       \n 11  rateCodeId            int32         \n 12  storeAndFwdFlag       object        \n 13  paymentType           object        \n 14  fareAmount            float64       \n 15  extra                 float64       \n 16  mtaTax                float64       \n 17  improvementSurcharge  object        \n 18  tipAmount             float64       \n 19  tollsAmount           float64       \n 20  totalAmount           float64       \ndtypes: datetime64[ns](2), float64(11), int32(2), object(6)\nmemory usage: 305.9+ MB\n"
          ]
        }
      ],
      "execution_count": 62,
      "metadata": {
        "jupyter": {
          "source_hidden": false,
          "outputs_hidden": false
        },
        "nteract": {
          "transient": {
            "deleting": false
          }
        }
      }
    },
    {
      "cell_type": "code",
      "source": [
        "from IPython.display import display\r\n",
        "\r\n",
        "sampled_df = nyc_tlc_df.sample(n=10000, random_state=123)\r\n",
        "display(sampled_df.head(5))"
      ],
      "outputs": [
        {
          "output_type": "display_data",
          "data": {
            "application/vnd.livy.statement-meta+json": {
              "spark_pool": "sparkpool",
              "session_id": "9",
              "statement_id": 64,
              "state": "finished",
              "livy_statement_state": "available",
              "queued_time": "2022-07-20T06:51:48.0074523Z",
              "session_start_time": null,
              "execution_start_time": "2022-07-20T06:51:48.4074215Z",
              "execution_finish_time": "2022-07-20T06:51:48.8585647Z",
              "spark_jobs": null
            },
            "text/plain": "StatementMeta(sparkpool, 9, 64, Finished, Available)"
          },
          "metadata": {}
        },
        {
          "output_type": "display_data",
          "data": {
            "text/plain": "       vendorID  tpepPickupDateTime tpepDropoffDateTime  passengerCount  \\\n87213         2 2018-05-05 19:07:01 2018-05-05 19:28:44               1   \n145405        2 2018-05-05 22:46:06 2018-05-05 22:59:11               1   \n457648        1 2018-05-06 18:53:06 2018-05-06 19:06:31               1   \n369051        2 2018-05-02 09:25:13 2018-05-02 09:36:32               1   \n38871         2 2018-05-04 02:58:10 2018-05-04 03:01:10               3   \n\n        tripDistance puLocationId doLocationId  startLon  startLat  endLon  \\\n87213           3.95          164          112       NaN       NaN     NaN   \n145405          1.22          264          264       NaN       NaN     NaN   \n457648          2.20          246          162       NaN       NaN     NaN   \n369051          0.89          161          162       NaN       NaN     NaN   \n38871           0.45           79            4       NaN       NaN     NaN   \n\n        ...  rateCodeId  storeAndFwdFlag paymentType fareAmount  extra  \\\n87213   ...           1                N           2       17.0    0.0   \n145405  ...           1                N           1        9.5    0.5   \n457648  ...           1                N           2       11.0    0.0   \n369051  ...           1                N           1        8.0    0.0   \n38871   ...           1                N           1        4.0    0.5   \n\n        mtaTax  improvementSurcharge tipAmount  tollsAmount  totalAmount  \n87213      0.5                   0.3      0.00         5.76        23.56  \n145405     0.5                   0.3      2.16         0.00        12.96  \n457648     0.5                   0.3      0.00         0.00        11.80  \n369051     0.5                   0.3      1.76         0.00        10.56  \n38871      0.5                   0.3      1.32         0.00         6.62  \n\n[5 rows x 21 columns]",
            "text/html": "<div>\n<style scoped>\n    .dataframe tbody tr th:only-of-type {\n        vertical-align: middle;\n    }\n\n    .dataframe tbody tr th {\n        vertical-align: top;\n    }\n\n    .dataframe thead th {\n        text-align: right;\n    }\n</style>\n<table border=\"1\" class=\"dataframe\">\n  <thead>\n    <tr style=\"text-align: right;\">\n      <th></th>\n      <th>vendorID</th>\n      <th>tpepPickupDateTime</th>\n      <th>tpepDropoffDateTime</th>\n      <th>passengerCount</th>\n      <th>tripDistance</th>\n      <th>puLocationId</th>\n      <th>doLocationId</th>\n      <th>startLon</th>\n      <th>startLat</th>\n      <th>endLon</th>\n      <th>...</th>\n      <th>rateCodeId</th>\n      <th>storeAndFwdFlag</th>\n      <th>paymentType</th>\n      <th>fareAmount</th>\n      <th>extra</th>\n      <th>mtaTax</th>\n      <th>improvementSurcharge</th>\n      <th>tipAmount</th>\n      <th>tollsAmount</th>\n      <th>totalAmount</th>\n    </tr>\n  </thead>\n  <tbody>\n    <tr>\n      <th>87213</th>\n      <td>2</td>\n      <td>2018-05-05 19:07:01</td>\n      <td>2018-05-05 19:28:44</td>\n      <td>1</td>\n      <td>3.95</td>\n      <td>164</td>\n      <td>112</td>\n      <td>NaN</td>\n      <td>NaN</td>\n      <td>NaN</td>\n      <td>...</td>\n      <td>1</td>\n      <td>N</td>\n      <td>2</td>\n      <td>17.0</td>\n      <td>0.0</td>\n      <td>0.5</td>\n      <td>0.3</td>\n      <td>0.00</td>\n      <td>5.76</td>\n      <td>23.56</td>\n    </tr>\n    <tr>\n      <th>145405</th>\n      <td>2</td>\n      <td>2018-05-05 22:46:06</td>\n      <td>2018-05-05 22:59:11</td>\n      <td>1</td>\n      <td>1.22</td>\n      <td>264</td>\n      <td>264</td>\n      <td>NaN</td>\n      <td>NaN</td>\n      <td>NaN</td>\n      <td>...</td>\n      <td>1</td>\n      <td>N</td>\n      <td>1</td>\n      <td>9.5</td>\n      <td>0.5</td>\n      <td>0.5</td>\n      <td>0.3</td>\n      <td>2.16</td>\n      <td>0.00</td>\n      <td>12.96</td>\n    </tr>\n    <tr>\n      <th>457648</th>\n      <td>1</td>\n      <td>2018-05-06 18:53:06</td>\n      <td>2018-05-06 19:06:31</td>\n      <td>1</td>\n      <td>2.20</td>\n      <td>246</td>\n      <td>162</td>\n      <td>NaN</td>\n      <td>NaN</td>\n      <td>NaN</td>\n      <td>...</td>\n      <td>1</td>\n      <td>N</td>\n      <td>2</td>\n      <td>11.0</td>\n      <td>0.0</td>\n      <td>0.5</td>\n      <td>0.3</td>\n      <td>0.00</td>\n      <td>0.00</td>\n      <td>11.80</td>\n    </tr>\n    <tr>\n      <th>369051</th>\n      <td>2</td>\n      <td>2018-05-02 09:25:13</td>\n      <td>2018-05-02 09:36:32</td>\n      <td>1</td>\n      <td>0.89</td>\n      <td>161</td>\n      <td>162</td>\n      <td>NaN</td>\n      <td>NaN</td>\n      <td>NaN</td>\n      <td>...</td>\n      <td>1</td>\n      <td>N</td>\n      <td>1</td>\n      <td>8.0</td>\n      <td>0.0</td>\n      <td>0.5</td>\n      <td>0.3</td>\n      <td>1.76</td>\n      <td>0.00</td>\n      <td>10.56</td>\n    </tr>\n    <tr>\n      <th>38871</th>\n      <td>2</td>\n      <td>2018-05-04 02:58:10</td>\n      <td>2018-05-04 03:01:10</td>\n      <td>3</td>\n      <td>0.45</td>\n      <td>79</td>\n      <td>4</td>\n      <td>NaN</td>\n      <td>NaN</td>\n      <td>NaN</td>\n      <td>...</td>\n      <td>1</td>\n      <td>N</td>\n      <td>1</td>\n      <td>4.0</td>\n      <td>0.5</td>\n      <td>0.5</td>\n      <td>0.3</td>\n      <td>1.32</td>\n      <td>0.00</td>\n      <td>6.62</td>\n    </tr>\n  </tbody>\n</table>\n<p>5 rows × 21 columns</p>\n</div>"
          },
          "metadata": {}
        }
      ],
      "execution_count": 63,
      "metadata": {
        "jupyter": {
          "source_hidden": false,
          "outputs_hidden": false
        },
        "nteract": {
          "transient": {
            "deleting": false
          }
        }
      }
    },
    {
      "cell_type": "code",
      "source": [
        "import numpy\r\n",
        "import pandas\r\n",
        "\r\n",
        "def get_pickup_time(df):\r\n",
        "    pickupHour = df['pickupHour'];\r\n",
        "    if ((pickupHour >= 7) & (pickupHour <= 10)):\r\n",
        "        return '1'\r\n",
        "    elif ((pickupHour >= 11) & (pickupHour <= 15)):\r\n",
        "        return '2'\r\n",
        "    elif ((pickupHour >= 16) & (pickupHour <= 19)):\r\n",
        "        return '3'\r\n",
        "    else:\r\n",
        "        return '4'\r\n",
        "\r\n",
        "featurized_df = pandas.DataFrame()\r\n",
        "featurized_df['tipped'] = (sampled_df['tipAmount'] > 0).astype('int')\r\n",
        "featurized_df['fareAmount'] = sampled_df['fareAmount'].astype('float32')\r\n",
        "featurized_df['paymentType'] = sampled_df['paymentType'].astype('int')\r\n",
        "featurized_df['passengerCount'] = sampled_df['passengerCount'].astype('int')\r\n",
        "featurized_df['tripDistance'] = sampled_df['tripDistance'].astype('float32')\r\n",
        "featurized_df['pickupHour'] = sampled_df['tpepPickupDateTime'].dt.hour.astype('int')\r\n",
        "featurized_df['tripTimeSecs'] = ((sampled_df['tpepDropoffDateTime'] - sampled_df['tpepPickupDateTime']) / numpy.timedelta64(1, 's')).astype('int')\r\n",
        "\r\n",
        "featurized_df['pickupTimeBin'] = featurized_df.apply(get_pickup_time, axis=1)\r\n",
        "featurized_df = featurized_df.drop(columns='pickupHour')\r\n",
        "\r\n",
        "display(featurized_df.head(5))"
      ],
      "outputs": [
        {
          "output_type": "display_data",
          "data": {
            "application/vnd.livy.statement-meta+json": {
              "spark_pool": "sparkpool",
              "session_id": "9",
              "statement_id": 65,
              "state": "finished",
              "livy_statement_state": "available",
              "queued_time": "2022-07-20T06:51:53.7676766Z",
              "session_start_time": null,
              "execution_start_time": "2022-07-20T06:51:54.1447199Z",
              "execution_finish_time": "2022-07-20T06:51:54.5477816Z",
              "spark_jobs": null
            },
            "text/plain": "StatementMeta(sparkpool, 9, 65, Finished, Available)"
          },
          "metadata": {}
        },
        {
          "output_type": "display_data",
          "data": {
            "text/plain": "        tipped  fareAmount  paymentType  passengerCount  tripDistance  \\\n87213        0        17.0            2               1          3.95   \n145405       1         9.5            1               1          1.22   \n457648       0        11.0            2               1          2.20   \n369051       1         8.0            1               1          0.89   \n38871        1         4.0            1               3          0.45   \n\n        tripTimeSecs pickupTimeBin  \n87213           1303             3  \n145405           785             4  \n457648           805             3  \n369051           679             1  \n38871            180             4  ",
            "text/html": "<div>\n<style scoped>\n    .dataframe tbody tr th:only-of-type {\n        vertical-align: middle;\n    }\n\n    .dataframe tbody tr th {\n        vertical-align: top;\n    }\n\n    .dataframe thead th {\n        text-align: right;\n    }\n</style>\n<table border=\"1\" class=\"dataframe\">\n  <thead>\n    <tr style=\"text-align: right;\">\n      <th></th>\n      <th>tipped</th>\n      <th>fareAmount</th>\n      <th>paymentType</th>\n      <th>passengerCount</th>\n      <th>tripDistance</th>\n      <th>tripTimeSecs</th>\n      <th>pickupTimeBin</th>\n    </tr>\n  </thead>\n  <tbody>\n    <tr>\n      <th>87213</th>\n      <td>0</td>\n      <td>17.0</td>\n      <td>2</td>\n      <td>1</td>\n      <td>3.95</td>\n      <td>1303</td>\n      <td>3</td>\n    </tr>\n    <tr>\n      <th>145405</th>\n      <td>1</td>\n      <td>9.5</td>\n      <td>1</td>\n      <td>1</td>\n      <td>1.22</td>\n      <td>785</td>\n      <td>4</td>\n    </tr>\n    <tr>\n      <th>457648</th>\n      <td>0</td>\n      <td>11.0</td>\n      <td>2</td>\n      <td>1</td>\n      <td>2.20</td>\n      <td>805</td>\n      <td>3</td>\n    </tr>\n    <tr>\n      <th>369051</th>\n      <td>1</td>\n      <td>8.0</td>\n      <td>1</td>\n      <td>1</td>\n      <td>0.89</td>\n      <td>679</td>\n      <td>1</td>\n    </tr>\n    <tr>\n      <th>38871</th>\n      <td>1</td>\n      <td>4.0</td>\n      <td>1</td>\n      <td>3</td>\n      <td>0.45</td>\n      <td>180</td>\n      <td>4</td>\n    </tr>\n  </tbody>\n</table>\n</div>"
          },
          "metadata": {}
        }
      ],
      "execution_count": 64,
      "metadata": {
        "jupyter": {
          "source_hidden": false,
          "outputs_hidden": false
        },
        "nteract": {
          "transient": {
            "deleting": false
          }
        }
      }
    },
    {
      "cell_type": "code",
      "source": [
        "filtered_df = featurized_df[(featurized_df.tipped >= 0) & (featurized_df.tipped <= 1)\\\r\n",
        "    & (featurized_df.fareAmount >= 1) & (featurized_df.fareAmount <= 250)\\\r\n",
        "    & (featurized_df.paymentType >= 1) & (featurized_df.paymentType <= 2)\\\r\n",
        "    & (featurized_df.passengerCount > 0) & (featurized_df.passengerCount < 8)\\\r\n",
        "    & (featurized_df.tripDistance >= 0) & (featurized_df.tripDistance <= 100)\\\r\n",
        "    & (featurized_df.tripTimeSecs >= 30) & (featurized_df.tripTimeSecs <= 7200)]\r\n",
        "\r\n",
        "filtered_df.info()"
      ],
      "outputs": [
        {
          "output_type": "display_data",
          "data": {
            "application/vnd.livy.statement-meta+json": {
              "spark_pool": "sparkpool",
              "session_id": "9",
              "statement_id": 66,
              "state": "finished",
              "livy_statement_state": "available",
              "queued_time": "2022-07-20T06:52:03.2565061Z",
              "session_start_time": null,
              "execution_start_time": "2022-07-20T06:52:03.6400538Z",
              "execution_finish_time": "2022-07-20T06:52:04.0811383Z",
              "spark_jobs": null
            },
            "text/plain": "StatementMeta(sparkpool, 9, 66, Finished, Available)"
          },
          "metadata": {}
        },
        {
          "output_type": "stream",
          "name": "stdout",
          "text": [
            "<class 'pandas.core.frame.DataFrame'>\nInt64Index: 9776 entries, 87213 to 333274\nData columns (total 7 columns):\n #   Column          Non-Null Count  Dtype  \n---  ------          --------------  -----  \n 0   tipped          9776 non-null   int64  \n 1   fareAmount      9776 non-null   float32\n 2   paymentType     9776 non-null   int64  \n 3   passengerCount  9776 non-null   int64  \n 4   tripDistance    9776 non-null   float32\n 5   tripTimeSecs    9776 non-null   int64  \n 6   pickupTimeBin   9776 non-null   object \ndtypes: float32(2), int64(4), object(1)\nmemory usage: 534.6+ KB\n"
          ]
        }
      ],
      "execution_count": 65,
      "metadata": {
        "jupyter": {
          "source_hidden": false,
          "outputs_hidden": false
        },
        "nteract": {
          "transient": {
            "deleting": false
          }
        }
      }
    },
    {
      "cell_type": "code",
      "source": [
        "display(filtered_df)"
      ],
      "outputs": [
        {
          "output_type": "display_data",
          "data": {
            "application/vnd.livy.statement-meta+json": {
              "spark_pool": "sparkpool",
              "session_id": "9",
              "statement_id": 67,
              "state": "finished",
              "livy_statement_state": "available",
              "queued_time": "2022-07-20T06:52:08.2498283Z",
              "session_start_time": null,
              "execution_start_time": "2022-07-20T06:52:08.6319398Z",
              "execution_finish_time": "2022-07-20T06:52:09.0567746Z",
              "spark_jobs": null
            },
            "text/plain": "StatementMeta(sparkpool, 9, 67, Finished, Available)"
          },
          "metadata": {}
        },
        {
          "output_type": "display_data",
          "data": {
            "text/plain": "        tipped  fareAmount  paymentType  passengerCount  tripDistance  \\\n87213        0        17.0            2               1          3.95   \n145405       1         9.5            1               1          1.22   \n457648       0        11.0            2               1          2.20   \n369051       1         8.0            1               1          0.89   \n38871        1         4.0            1               3          0.45   \n...        ...         ...          ...             ...           ...   \n252911       1        12.0            1               1          3.00   \n69465        0        20.0            2               1          6.10   \n117339       1         5.0            1               1          0.64   \n355108       0        26.0            1               1          9.22   \n333274       0        16.0            2               2          4.50   \n\n        tripTimeSecs pickupTimeBin  \n87213           1303             3  \n145405           785             4  \n457648           805             3  \n369051           679             1  \n38871            180             4  \n...              ...           ...  \n252911           821             4  \n69465           1932             1  \n117339           295             3  \n355108           800             1  \n333274          1022             4  \n\n[9776 rows x 7 columns]",
            "text/html": "<div>\n<style scoped>\n    .dataframe tbody tr th:only-of-type {\n        vertical-align: middle;\n    }\n\n    .dataframe tbody tr th {\n        vertical-align: top;\n    }\n\n    .dataframe thead th {\n        text-align: right;\n    }\n</style>\n<table border=\"1\" class=\"dataframe\">\n  <thead>\n    <tr style=\"text-align: right;\">\n      <th></th>\n      <th>tipped</th>\n      <th>fareAmount</th>\n      <th>paymentType</th>\n      <th>passengerCount</th>\n      <th>tripDistance</th>\n      <th>tripTimeSecs</th>\n      <th>pickupTimeBin</th>\n    </tr>\n  </thead>\n  <tbody>\n    <tr>\n      <th>87213</th>\n      <td>0</td>\n      <td>17.0</td>\n      <td>2</td>\n      <td>1</td>\n      <td>3.95</td>\n      <td>1303</td>\n      <td>3</td>\n    </tr>\n    <tr>\n      <th>145405</th>\n      <td>1</td>\n      <td>9.5</td>\n      <td>1</td>\n      <td>1</td>\n      <td>1.22</td>\n      <td>785</td>\n      <td>4</td>\n    </tr>\n    <tr>\n      <th>457648</th>\n      <td>0</td>\n      <td>11.0</td>\n      <td>2</td>\n      <td>1</td>\n      <td>2.20</td>\n      <td>805</td>\n      <td>3</td>\n    </tr>\n    <tr>\n      <th>369051</th>\n      <td>1</td>\n      <td>8.0</td>\n      <td>1</td>\n      <td>1</td>\n      <td>0.89</td>\n      <td>679</td>\n      <td>1</td>\n    </tr>\n    <tr>\n      <th>38871</th>\n      <td>1</td>\n      <td>4.0</td>\n      <td>1</td>\n      <td>3</td>\n      <td>0.45</td>\n      <td>180</td>\n      <td>4</td>\n    </tr>\n    <tr>\n      <th>...</th>\n      <td>...</td>\n      <td>...</td>\n      <td>...</td>\n      <td>...</td>\n      <td>...</td>\n      <td>...</td>\n      <td>...</td>\n    </tr>\n    <tr>\n      <th>252911</th>\n      <td>1</td>\n      <td>12.0</td>\n      <td>1</td>\n      <td>1</td>\n      <td>3.00</td>\n      <td>821</td>\n      <td>4</td>\n    </tr>\n    <tr>\n      <th>69465</th>\n      <td>0</td>\n      <td>20.0</td>\n      <td>2</td>\n      <td>1</td>\n      <td>6.10</td>\n      <td>1932</td>\n      <td>1</td>\n    </tr>\n    <tr>\n      <th>117339</th>\n      <td>1</td>\n      <td>5.0</td>\n      <td>1</td>\n      <td>1</td>\n      <td>0.64</td>\n      <td>295</td>\n      <td>3</td>\n    </tr>\n    <tr>\n      <th>355108</th>\n      <td>0</td>\n      <td>26.0</td>\n      <td>1</td>\n      <td>1</td>\n      <td>9.22</td>\n      <td>800</td>\n      <td>1</td>\n    </tr>\n    <tr>\n      <th>333274</th>\n      <td>0</td>\n      <td>16.0</td>\n      <td>2</td>\n      <td>2</td>\n      <td>4.50</td>\n      <td>1022</td>\n      <td>4</td>\n    </tr>\n  </tbody>\n</table>\n<p>9776 rows × 7 columns</p>\n</div>"
          },
          "metadata": {}
        }
      ],
      "execution_count": 66,
      "metadata": {
        "jupyter": {
          "source_hidden": false,
          "outputs_hidden": false
        },
        "nteract": {
          "transient": {
            "deleting": false
          }
        },
        "collapsed": false
      }
    },
    {
      "cell_type": "code",
      "source": [
        "  train_df = filtered_df[[\"tipped\",\"paymentType\",\"passengerCount\",\"tripDistance\",\"tripTimeSecs\",\"pickupTimeBin\",\"fareAmount\"]]"
      ],
      "outputs": [
        {
          "output_type": "display_data",
          "data": {
            "application/vnd.livy.statement-meta+json": {
              "spark_pool": "sparkpool",
              "session_id": "9",
              "statement_id": 68,
              "state": "finished",
              "livy_statement_state": "available",
              "queued_time": "2022-07-20T06:52:12.0209519Z",
              "session_start_time": null,
              "execution_start_time": "2022-07-20T06:52:12.4378Z",
              "execution_finish_time": "2022-07-20T06:52:12.8445994Z",
              "spark_jobs": null
            },
            "text/plain": "StatementMeta(sparkpool, 9, 68, Finished, Available)"
          },
          "metadata": {}
        }
      ],
      "execution_count": 67,
      "metadata": {
        "jupyter": {
          "source_hidden": false,
          "outputs_hidden": false
        },
        "nteract": {
          "transient": {
            "deleting": false
          }
        }
      }
    },
    {
      "cell_type": "code",
      "source": [
        "import os\r\n",
        "import shutil\r\n",
        "import mlflow\r\n",
        "import json\r\n",
        "from mlflow.utils import model_utils\r\n",
        "\r\n",
        "import numpy as np\r\n",
        "import pandas as pd\r\n",
        "\r\n",
        "from sklearn.linear_model import LinearRegression\r\n",
        "\r\n",
        "\r\n",
        "class LinearRegressionModel():\r\n",
        "  _ARGS_FILENAME = 'args.json'\r\n",
        "  FEATURES_KEY = 'features'\r\n",
        "  TARGETS_KEY = 'targets'\r\n",
        "  TARGETS_PRED_KEY = 'targets_pred'\r\n",
        "\r\n",
        "  def __init__(self, fit_intercept, nb_input_features=9, nb_output_features=1):\r\n",
        "    self.fit_intercept = fit_intercept\r\n",
        "    self.nb_input_features = nb_input_features\r\n",
        "    self.nb_output_features = nb_output_features\r\n",
        "\r\n",
        "  def get_args(self):\r\n",
        "    args = {\r\n",
        "        'nb_input_features': self.nb_input_features,\r\n",
        "        'nb_output_features': self.nb_output_features,\r\n",
        "        'fit_intercept': self.fit_intercept\r\n",
        "    }\r\n",
        "    return args\r\n",
        "\r\n",
        "  def create_model(self):\r\n",
        "    self.model = LinearRegression(fit_intercept=self.fit_intercept)\r\n",
        "\r\n",
        "  def train(self, dataset):\r\n",
        "\r\n",
        "    features = np.stack([sample for sample in iter(\r\n",
        "        dataset[LinearRegressionModel.FEATURES_KEY])], axis=0)\r\n",
        "\r\n",
        "    targets = np.stack([sample for sample in iter(\r\n",
        "        dataset[LinearRegressionModel.TARGETS_KEY])], axis=0)\r\n",
        "\r\n",
        "\r\n",
        "    self.model.fit(features, targets)\r\n",
        "\r\n",
        "  def predict(self, dataset):\r\n",
        "    features = np.stack([sample for sample in iter(\r\n",
        "        dataset[LinearRegressionModel.FEATURES_KEY])], axis=0)\r\n",
        "    targets_pred = self.model.predict(features)\r\n",
        "    return targets_pred\r\n",
        "\r\n",
        "  def save(self, path):\r\n",
        "    if os.path.exists(path):\r\n",
        "      shutil.rmtree(path)\r\n",
        "\r\n",
        "    # save the sklearn model with mlflow\r\n",
        "    mlflow.sklearn.save_model(self.model, path)\r\n",
        "\r\n",
        "    # save args\r\n",
        "    self._save_args(path)\r\n",
        "\r\n",
        "  def _save_args(self, path):\r\n",
        "    args_filename = os.path.join(path, LinearRegressionModel._ARGS_FILENAME)\r\n",
        "    with open(args_filename, 'w') as f:\r\n",
        "      args = self.get_args()\r\n",
        "      json.dump(args, f)\r\n",
        "\r\n",
        "\r\n",
        "def train(train_df, output_model_path):\r\n",
        "  print(f\"Start to train LinearRegressionModel.\")\r\n",
        "\r\n",
        "  # Initialize input dataset\r\n",
        "  dataset = train_df.to_numpy()\r\n",
        "  datasets = {}\r\n",
        "  datasets['targets'] = dataset[:, -1]\r\n",
        "  datasets['features'] = dataset[:, :6]\r\n",
        "\r\n",
        "  # Initialize model class obj\r\n",
        "  model_class = LinearRegressionModel(fit_intercept=10)\r\n",
        "  with mlflow.start_run(nested=True) as run:\r\n",
        "    model_class.create_model()\r\n",
        "    model_class.train(datasets)\r\n",
        "    model_class.save(output_model_path)\r\n",
        "    print(model_class.predict(datasets))\r\n",
        "\r\n",
        "\r\n",
        "train(train_df, './artifacts/output')"
      ],
      "outputs": [
        {
          "output_type": "display_data",
          "data": {
            "application/vnd.livy.statement-meta+json": {
              "spark_pool": "sparkpool",
              "session_id": "9",
              "statement_id": 69,
              "state": "finished",
              "livy_statement_state": "available",
              "queued_time": "2022-07-20T06:53:22.088526Z",
              "session_start_time": null,
              "execution_start_time": "2022-07-20T06:53:22.4732637Z",
              "execution_finish_time": "2022-07-20T06:53:22.8780327Z",
              "spark_jobs": null
            },
            "text/plain": "StatementMeta(sparkpool, 9, 69, Finished, Available)"
          },
          "metadata": {}
        },
        {
          "output_type": "stream",
          "name": "stdout",
          "text": [
            "Start to train LinearRegressionModel.\n[17.0219659   9.05096899 10.97521973 ...  5.43188232 25.43395136\n 16.50693599]\n"
          ]
        }
      ],
      "execution_count": 68,
      "metadata": {
        "jupyter": {
          "source_hidden": false,
          "outputs_hidden": false
        },
        "nteract": {
          "transient": {
            "deleting": false
          }
        }
      }
    },
    {
      "cell_type": "code",
      "source": [
        "from azureml.core import Workspace, Model\r\n",
        "from azureml.core.authentication import ServicePrincipalAuthentication\r\n",
        "from notebookutils.mssparkutils import azureML\r\n",
        "\r\n",
        "ws = azureML.getWorkspace(\"<linked_service_name>\")\r\n",
        "\r\n",
        "model = Model.register(\r\n",
        "    model_path=\"./artifacts/output\",\r\n",
        "    model_name=\"mlflow_sklearn_nyctaxi\",\r\n",
        "    workspace=ws,\r\n",
        ")\r\n",
        "\r\n"
      ],
      "outputs": [
        {
          "output_type": "display_data",
          "data": {
            "application/vnd.livy.statement-meta+json": {
              "spark_pool": "sparkpool",
              "session_id": "9",
              "statement_id": 70,
              "state": "finished",
              "livy_statement_state": "available",
              "queued_time": "2022-07-20T06:53:34.2077724Z",
              "session_start_time": null,
              "execution_start_time": "2022-07-20T06:53:34.582717Z",
              "execution_finish_time": "2022-07-20T06:53:37.3900428Z",
              "spark_jobs": null
            },
            "text/plain": "StatementMeta(sparkpool, 9, 70, Finished, Available)"
          },
          "metadata": {}
        },
        {
          "output_type": "stream",
          "name": "stdout",
          "text": [
            "Registering model mlflow_sklearn_nyctaxi\n"
          ]
        }
      ],
      "execution_count": 69,
      "metadata": {
        "jupyter": {
          "source_hidden": false,
          "outputs_hidden": false
        },
        "nteract": {
          "transient": {
            "deleting": false
          }
        }
      }
    },
    {
      "cell_type": "code",
      "source": [
        "from pyspark.sql.functions import col, pandas_udf,udf,lit\r\n",
        "import azure.synapse.ml.predict as pcontext"
      ],
      "outputs": [
        {
          "output_type": "display_data",
          "data": {
            "application/vnd.livy.statement-meta+json": {
              "spark_pool": "sparkpool",
              "session_id": "9",
              "statement_id": 71,
              "state": "finished",
              "livy_statement_state": "available",
              "queued_time": "2022-07-20T06:53:45.147199Z",
              "session_start_time": null,
              "execution_start_time": "2022-07-20T06:53:45.5274719Z",
              "execution_finish_time": "2022-07-20T06:53:46.0110685Z",
              "spark_jobs": null
            },
            "text/plain": "StatementMeta(sparkpool, 9, 71, Finished, Available)"
          },
          "metadata": {}
        }
      ],
      "execution_count": 70,
      "metadata": {
        "jupyter": {
          "source_hidden": false,
          "outputs_hidden": false
        },
        "nteract": {
          "transient": {
            "deleting": false
          }
        }
      }
    },
    {
      "cell_type": "code",
      "source": [
        "DATA_FILE = \"abfss://<containername>@<storageaccountname>.dfs.core.windows.net/test_data.csv\"\r\n",
        "AML_MODEL_URI_SKLEARN = \"aml://mlflow_sklearn_nyctaxi\" #You can add a version by doing \"aml://mlflow_sklearn_nyctaxi:1\" \":1\" is the version of model in AML. We can choose which version we want to run. If \":1\" is not provided then by default latest version will be picked\r\n",
        "RETURN_TYPES = \"FLOAT\""
      ],
      "outputs": [
        {
          "output_type": "display_data",
          "data": {
            "application/vnd.livy.statement-meta+json": {
              "spark_pool": "sparkpool",
              "session_id": "9",
              "statement_id": 75,
              "state": "finished",
              "livy_statement_state": "available",
              "queued_time": "2022-07-20T06:55:28.0467219Z",
              "session_start_time": null,
              "execution_start_time": "2022-07-20T06:55:28.4153402Z",
              "execution_finish_time": "2022-07-20T06:55:29.5487854Z",
              "spark_jobs": null
            },
            "text/plain": "StatementMeta(sparkpool, 9, 75, Finished, Available)"
          },
          "metadata": {}
        }
      ],
      "execution_count": 74,
      "metadata": {
        "jupyter": {
          "source_hidden": false,
          "outputs_hidden": false
        },
        "nteract": {
          "transient": {
            "deleting": false
          }
        }
      }
    },
    {
      "cell_type": "code",
      "source": [
        "spark.conf.set(\"spark.synapse.ml.predict.enabled\",\"true\")"
      ],
      "outputs": [
        {
          "output_type": "display_data",
          "data": {
            "application/vnd.livy.statement-meta+json": {
              "spark_pool": "sparkpool",
              "session_id": "9",
              "statement_id": 73,
              "state": "finished",
              "livy_statement_state": "available",
              "queued_time": "2022-07-20T06:54:03.4157335Z",
              "session_start_time": null,
              "execution_start_time": "2022-07-20T06:54:03.7981288Z",
              "execution_finish_time": "2022-07-20T06:54:04.3123793Z",
              "spark_jobs": null
            },
            "text/plain": "StatementMeta(sparkpool, 9, 73, Finished, Available)"
          },
          "metadata": {}
        }
      ],
      "execution_count": 72,
      "metadata": {
        "jupyter": {
          "source_hidden": false,
          "outputs_hidden": false
        },
        "nteract": {
          "transient": {
            "deleting": false
          }
        }
      }
    },
    {
      "cell_type": "code",
      "source": [
        "model = pcontext.bind_model(\r\n",
        "    RETURN_TYPES, \r\n",
        "    \"mlflow\",\r\n",
        "    \"sklearn_linear_regression\",\r\n",
        "    AML_MODEL_URI_SKLEARN,\r\n",
        "    aml_workspace=ws\r\n",
        "    ).register()"
      ],
      "outputs": [
        {
          "output_type": "display_data",
          "data": {
            "application/vnd.livy.statement-meta+json": {
              "spark_pool": "sparkpool",
              "session_id": "9",
              "statement_id": 76,
              "state": "finished",
              "livy_statement_state": "available",
              "queued_time": "2022-07-20T06:55:41.1410099Z",
              "session_start_time": null,
              "execution_start_time": "2022-07-20T06:55:41.5110441Z",
              "execution_finish_time": "2022-07-20T06:55:42.5878551Z",
              "spark_jobs": null
            },
            "text/plain": "StatementMeta(sparkpool, 9, 76, Finished, Available)"
          },
          "metadata": {}
        }
      ],
      "execution_count": 75,
      "metadata": {
        "jupyter": {
          "source_hidden": false,
          "outputs_hidden": false
        },
        "nteract": {
          "transient": {
            "deleting": false
          }
        }
      }
    },
    {
      "cell_type": "code",
      "source": [
        "df = spark.read.format(\"csv\").option(\"header\", \"true\").csv(DATA_FILE,\r\n",
        "        inferSchema=True)\r\n"
      ],
      "outputs": [
        {
          "output_type": "display_data",
          "data": {
            "application/vnd.livy.statement-meta+json": {
              "spark_pool": "sparkpool",
              "session_id": "9",
              "statement_id": 77,
              "state": "finished",
              "livy_statement_state": "available",
              "queued_time": "2022-07-20T06:56:49.6520217Z",
              "session_start_time": null,
              "execution_start_time": "2022-07-20T06:56:50.0561987Z",
              "execution_finish_time": "2022-07-20T06:56:51.2566139Z",
              "spark_jobs": null
            },
            "text/plain": "StatementMeta(sparkpool, 9, 77, Finished, Available)"
          },
          "metadata": {}
        }
      ],
      "execution_count": 76,
      "metadata": {
        "jupyter": {
          "source_hidden": false,
          "outputs_hidden": false
        },
        "nteract": {
          "transient": {
            "deleting": false
          }
        }
      }
    },
    {
      "cell_type": "code",
      "source": [
        "df=df.replace('AMRush',\"1\").replace('Afternoon',\"2\").replace('PMRush',\"3\").replace('Night',\"4\")\r\n",
        "df=df.withColumn(\"pickupTimeBin\",df.pickupTimeBin.cast('int'))\r\n",
        "df = df.drop('fareAmount')"
      ],
      "outputs": [
        {
          "output_type": "display_data",
          "data": {
            "application/vnd.livy.statement-meta+json": {
              "spark_pool": "sparkpool",
              "session_id": "9",
              "statement_id": 78,
              "state": "finished",
              "livy_statement_state": "available",
              "queued_time": "2022-07-20T06:57:00.4769582Z",
              "session_start_time": null,
              "execution_start_time": "2022-07-20T06:57:00.8607759Z",
              "execution_finish_time": "2022-07-20T06:57:01.2559511Z",
              "spark_jobs": null
            },
            "text/plain": "StatementMeta(sparkpool, 9, 78, Finished, Available)"
          },
          "metadata": {}
        }
      ],
      "execution_count": 77,
      "metadata": {
        "jupyter": {
          "source_hidden": false,
          "outputs_hidden": false
        },
        "nteract": {
          "transient": {
            "deleting": false
          }
        }
      }
    },
    {
      "cell_type": "code",
      "source": [
        "\r\n",
        "df.createOrReplaceTempView('data')\r\n",
        "df.show(10)\r\n",
        "df"
      ],
      "outputs": [
        {
          "output_type": "display_data",
          "data": {
            "application/vnd.livy.statement-meta+json": {
              "spark_pool": "sparkpool",
              "session_id": "9",
              "statement_id": 79,
              "state": "finished",
              "livy_statement_state": "available",
              "queued_time": "2022-07-20T06:57:04.2471402Z",
              "session_start_time": null,
              "execution_start_time": "2022-07-20T06:57:04.6303181Z",
              "execution_finish_time": "2022-07-20T06:57:05.0673054Z",
              "spark_jobs": null
            },
            "text/plain": "StatementMeta(sparkpool, 9, 79, Finished, Available)"
          },
          "metadata": {}
        },
        {
          "output_type": "stream",
          "name": "stdout",
          "text": [
            "+------+-----------+--------------+------------+------------+-------------+\n|tipped|paymentType|passengerCount|tripDistance|tripTimeSecs|pickupTimeBin|\n+------+-----------+--------------+------------+------------+-------------+\n|     0|          2|             1|         3.1|         547|            4|\n|     0|          2|             1|         5.7|        1080|            4|\n|     1|          1|             3|         0.7|         240|            2|\n|     1|          1|             1|         9.5|        1973|            4|\n|     0|          2|             1|         1.7|         767|            2|\n|     1|          1|             2|         4.8|        1442|            4|\n|     1|          1|             6|        8.41|        3110|            3|\n|     1|          1|             1|         1.5|         545|            4|\n|     1|          1|             1|        4.11|        1679|            2|\n|     1|          1|             1|         0.6|         283|            3|\n+------+-----------+--------------+------------+------------+-------------+\nonly showing top 10 rows\n\n"
          ]
        },
        {
          "output_type": "execute_result",
          "execution_count": 159,
          "data": {
            "text/plain": "DataFrame[tipped: int, paymentType: int, passengerCount: int, tripDistance: double, tripTimeSecs: int, pickupTimeBin: int]"
          },
          "metadata": {}
        }
      ],
      "execution_count": 78,
      "metadata": {
        "jupyter": {
          "source_hidden": false,
          "outputs_hidden": false
        },
        "nteract": {
          "transient": {
            "deleting": false
          }
        }
      }
    },
    {
      "cell_type": "code",
      "source": [
        "spark.sql(\r\n",
        "    \"\"\"\r\n",
        "        select * from data\r\n",
        "    \"\"\"\r\n",
        ").show()\r\n"
      ],
      "outputs": [
        {
          "output_type": "display_data",
          "data": {
            "application/vnd.livy.statement-meta+json": {
              "spark_pool": "sparkpool",
              "session_id": "9",
              "statement_id": 80,
              "state": "finished",
              "livy_statement_state": "available",
              "queued_time": "2022-07-20T06:57:08.1592468Z",
              "session_start_time": null,
              "execution_start_time": "2022-07-20T06:57:08.5994514Z",
              "execution_finish_time": "2022-07-20T06:57:09.0402248Z",
              "spark_jobs": null
            },
            "text/plain": "StatementMeta(sparkpool, 9, 80, Finished, Available)"
          },
          "metadata": {}
        },
        {
          "output_type": "stream",
          "name": "stdout",
          "text": [
            "+------+-----------+--------------+------------+------------+-------------+\n|tipped|paymentType|passengerCount|tripDistance|tripTimeSecs|pickupTimeBin|\n+------+-----------+--------------+------------+------------+-------------+\n|     0|          2|             1|         3.1|         547|            4|\n|     0|          2|             1|         5.7|        1080|            4|\n|     1|          1|             3|         0.7|         240|            2|\n|     1|          1|             1|         9.5|        1973|            4|\n|     0|          2|             1|         1.7|         767|            2|\n|     1|          1|             2|         4.8|        1442|            4|\n|     1|          1|             6|        8.41|        3110|            3|\n|     1|          1|             1|         1.5|         545|            4|\n|     1|          1|             1|        4.11|        1679|            2|\n|     1|          1|             1|         0.6|         283|            3|\n|     1|          1|             1|         1.2|         389|            3|\n|     1|          1|             5|        2.21|         633|            4|\n|     1|          1|             1|         0.9|         707|            3|\n|     1|          1|             3|        0.35|         119|            3|\n|     1|          1|             1|         1.1|         368|            4|\n|     1|          1|             1|        1.14|         384|            2|\n|     1|          1|             1|        1.82|         664|            4|\n|     1|          1|             1|         1.5|         705|            3|\n|     0|          2|             1|         0.5|         258|            2|\n|     0|          2|             1|         3.2|        1615|            1|\n+------+-----------+--------------+------------+------------+-------------+\nonly showing top 20 rows\n\n"
          ]
        }
      ],
      "execution_count": 79,
      "metadata": {
        "jupyter": {
          "source_hidden": false,
          "outputs_hidden": false
        },
        "nteract": {
          "transient": {
            "deleting": false
          }
        }
      }
    },
    {
      "cell_type": "code",
      "source": [
        "predictions = spark.sql(\r\n",
        "                  \"\"\"\r\n",
        "                      SELECT PREDICT('sklearn_linear_regression', *) AS predict FROM data\r\n",
        "                  \"\"\"\r\n",
        "              ).show()"
      ],
      "outputs": [
        {
          "output_type": "display_data",
          "data": {
            "application/vnd.livy.statement-meta+json": {
              "spark_pool": "sparkpool",
              "session_id": "9",
              "statement_id": 81,
              "state": "finished",
              "livy_statement_state": "available",
              "queued_time": "2022-07-20T06:57:12.6485873Z",
              "session_start_time": null,
              "execution_start_time": "2022-07-20T06:57:13.0291918Z",
              "execution_finish_time": "2022-07-20T06:57:18.9145634Z",
              "spark_jobs": null
            },
            "text/plain": "StatementMeta(sparkpool, 9, 81, Finished, Available)"
          },
          "metadata": {}
        },
        {
          "output_type": "stream",
          "name": "stdout",
          "text": [
            "+---------+\n|  predict|\n+---------+\n|11.309419|\n| 19.21058|\n| 5.265986|\n|31.547586|\n| 9.878617|\n|19.487162|\n|35.235844|\n| 8.345654|\n|19.582026|\n|5.2904415|\n| 7.024831|\n|10.039314|\n| 8.098974|\n| 3.859315|\n| 6.632982|\n| 6.966037|\n| 9.597531|\n|9.2682295|\n|4.8557224|\n|17.350607|\n+---------+\nonly showing top 20 rows\n\n"
          ]
        }
      ],
      "execution_count": 80,
      "metadata": {
        "jupyter": {
          "source_hidden": false,
          "outputs_hidden": false
        },
        "nteract": {
          "transient": {
            "deleting": false
          }
        }
      }
    }
  ],
  "metadata": {
    "kernelspec": {
      "name": "synapse_pyspark",
      "display_name": "Synapse PySpark"
    },
    "language_info": {
      "name": "python"
    },
    "save_output": true,
    "synapse_widget": {
      "version": "0.1",
      "state": {}
    }
  },
  "nbformat": 4,
  "nbformat_minor": 2
}